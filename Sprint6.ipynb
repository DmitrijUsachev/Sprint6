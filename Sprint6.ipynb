{
 "cells": [
  {
   "cell_type": "markdown",
   "id": "4e44bec9",
   "metadata": {},
   "source": [
    "# 1. Постановка задачи"
   ]
  },
  {
   "cell_type": "markdown",
   "id": "cab1f99b",
   "metadata": {},
   "source": [
    "Cпрогнозировать, уйдёт клиент из банка в ближайшее время или нет по предоставленым исторические данные о поведении клиентов и расторжении договоров с банком. \n",
    "Построить модель с предельно большим значением F1-меры (не менее 0.59). Проверить F1-меру на тестовой выборке.\n",
    "Дополнительно измерить AUC-ROC, сравнивая её значение с F1-мерой."
   ]
  },
  {
   "cell_type": "markdown",
   "id": "9dd03d46",
   "metadata": {},
   "source": [
    "**Описание данных:**\n"
   ]
  },
  {
   "cell_type": "markdown",
   "id": "7c611400",
   "metadata": {},
   "source": [
    "Признаки"
   ]
  },
  {
   "cell_type": "markdown",
   "id": "005a5aa6",
   "metadata": {},
   "source": [
    "- RowNumber — индекс строки в данных\n",
    "- CustomerId — уникальный идентификатор клиента\n",
    "- Surname — фамилия\n",
    "- CreditScore — кредитный рейтинг\n",
    "- Geography — страна проживания\n",
    "- Gender — пол\n",
    "- Age — возраст\n",
    "- Tenure — сколько лет человек является клиентом банка\n",
    "- Balance — баланс на счёте\n",
    "- NumOfProducts — количество продуктов банка, используемых клиентом\n",
    "- HasCrCard — наличие кредитной карты\n",
    "- IsActiveMember — активность клиента\n",
    "- EstimatedSalary — предполагаемая зарплата"
   ]
  },
  {
   "cell_type": "markdown",
   "id": "33d885e2",
   "metadata": {},
   "source": [
    "Целевой признак"
   ]
  },
  {
   "cell_type": "markdown",
   "id": "a80d8445",
   "metadata": {},
   "source": [
    "- Exited — факт ухода клиента"
   ]
  },
  {
   "cell_type": "markdown",
   "id": "51620481",
   "metadata": {},
   "source": [
    "# 2. Загрузка и подготовка данных"
   ]
  },
  {
   "cell_type": "markdown",
   "id": "c80cdf48",
   "metadata": {},
   "source": [
    "## 2.1 Загрузка данных и импорт библиотек"
   ]
  },
  {
   "cell_type": "markdown",
   "id": "01decffe",
   "metadata": {},
   "source": [
    "Импорт библиотек"
   ]
  },
  {
   "cell_type": "code",
   "execution_count": 1,
   "id": "fea31383",
   "metadata": {},
   "outputs": [],
   "source": [
    "import pandas as pd \n",
    "import matplotlib.pyplot as plt\n",
    "import numpy as np\n",
    "from sklearn.model_selection import train_test_split\n",
    "from sklearn.preprocessing import StandardScaler \n",
    "from sklearn.tree import DecisionTreeClassifier\n",
    "from sklearn.ensemble import RandomForestClassifier\n",
    "from sklearn.linear_model import LogisticRegression\n",
    "from sklearn.metrics import f1_score\n",
    "from sklearn.metrics import confusion_matrix\n",
    "from sklearn.metrics import roc_auc_score\n",
    "from sklearn.metrics import roc_curve\n",
    "from sklearn.metrics import accuracy_score\n",
    "from sklearn.utils import shuffle\n",
    "from sklearn.metrics import precision_score, recall_score\n",
    "from sklearn.preprocessing import OneHotEncoder"
   ]
  },
  {
   "cell_type": "markdown",
   "id": "13b1ee81",
   "metadata": {},
   "source": [
    "Импорт данных"
   ]
  },
  {
   "cell_type": "code",
   "execution_count": 2,
   "id": "0c49f8d6",
   "metadata": {},
   "outputs": [],
   "source": [
    "def read_data_set(pth1, pth2) -> pd.DataFrame:\n",
    "    df = pd.DataFrame    \n",
    "    try:\n",
    "        df = pd.read_csv(pth1)\n",
    "    except OSError as e:\n",
    "        df = pd.read_csv(pth2)\n",
    "    return df"
   ]
  },
  {
   "cell_type": "code",
   "execution_count": 3,
   "id": "c1eacf37",
   "metadata": {},
   "outputs": [],
   "source": [
    "pth1 = 'datasets/Churn.csv'\n",
    "pth2 = 'https://code.s3.yandex.net/datasets/Churn.csv'"
   ]
  },
  {
   "cell_type": "code",
   "execution_count": 4,
   "id": "fbb1d806",
   "metadata": {},
   "outputs": [],
   "source": [
    "df = read_data_set(pth1, pth2)"
   ]
  },
  {
   "cell_type": "code",
   "execution_count": 5,
   "id": "a851a19a",
   "metadata": {},
   "outputs": [
    {
     "name": "stdout",
     "output_type": "stream",
     "text": [
      "<class 'pandas.core.frame.DataFrame'>\n",
      "RangeIndex: 10000 entries, 0 to 9999\n",
      "Data columns (total 14 columns):\n",
      " #   Column           Non-Null Count  Dtype  \n",
      "---  ------           --------------  -----  \n",
      " 0   RowNumber        10000 non-null  int64  \n",
      " 1   CustomerId       10000 non-null  int64  \n",
      " 2   Surname          10000 non-null  object \n",
      " 3   CreditScore      10000 non-null  int64  \n",
      " 4   Geography        10000 non-null  object \n",
      " 5   Gender           10000 non-null  object \n",
      " 6   Age              10000 non-null  int64  \n",
      " 7   Tenure           9091 non-null   float64\n",
      " 8   Balance          10000 non-null  float64\n",
      " 9   NumOfProducts    10000 non-null  int64  \n",
      " 10  HasCrCard        10000 non-null  int64  \n",
      " 11  IsActiveMember   10000 non-null  int64  \n",
      " 12  EstimatedSalary  10000 non-null  float64\n",
      " 13  Exited           10000 non-null  int64  \n",
      "dtypes: float64(3), int64(8), object(3)\n",
      "memory usage: 1.1+ MB\n"
     ]
    }
   ],
   "source": [
    "df.info()"
   ]
  },
  {
   "cell_type": "code",
   "execution_count": 6,
   "id": "ede66454",
   "metadata": {},
   "outputs": [
    {
     "data": {
      "text/html": [
       "<div>\n",
       "<style scoped>\n",
       "    .dataframe tbody tr th:only-of-type {\n",
       "        vertical-align: middle;\n",
       "    }\n",
       "\n",
       "    .dataframe tbody tr th {\n",
       "        vertical-align: top;\n",
       "    }\n",
       "\n",
       "    .dataframe thead th {\n",
       "        text-align: right;\n",
       "    }\n",
       "</style>\n",
       "<table border=\"1\" class=\"dataframe\">\n",
       "  <thead>\n",
       "    <tr style=\"text-align: right;\">\n",
       "      <th></th>\n",
       "      <th>RowNumber</th>\n",
       "      <th>CustomerId</th>\n",
       "      <th>CreditScore</th>\n",
       "      <th>Age</th>\n",
       "      <th>Tenure</th>\n",
       "      <th>Balance</th>\n",
       "      <th>NumOfProducts</th>\n",
       "      <th>HasCrCard</th>\n",
       "      <th>IsActiveMember</th>\n",
       "      <th>EstimatedSalary</th>\n",
       "      <th>Exited</th>\n",
       "    </tr>\n",
       "  </thead>\n",
       "  <tbody>\n",
       "    <tr>\n",
       "      <th>count</th>\n",
       "      <td>10000.00000</td>\n",
       "      <td>1.000000e+04</td>\n",
       "      <td>10000.000000</td>\n",
       "      <td>10000.000000</td>\n",
       "      <td>9091.000000</td>\n",
       "      <td>10000.000000</td>\n",
       "      <td>10000.000000</td>\n",
       "      <td>10000.00000</td>\n",
       "      <td>10000.000000</td>\n",
       "      <td>10000.000000</td>\n",
       "      <td>10000.000000</td>\n",
       "    </tr>\n",
       "    <tr>\n",
       "      <th>mean</th>\n",
       "      <td>5000.50000</td>\n",
       "      <td>1.569094e+07</td>\n",
       "      <td>650.528800</td>\n",
       "      <td>38.921800</td>\n",
       "      <td>4.997690</td>\n",
       "      <td>76485.889288</td>\n",
       "      <td>1.530200</td>\n",
       "      <td>0.70550</td>\n",
       "      <td>0.515100</td>\n",
       "      <td>100090.239881</td>\n",
       "      <td>0.203700</td>\n",
       "    </tr>\n",
       "    <tr>\n",
       "      <th>std</th>\n",
       "      <td>2886.89568</td>\n",
       "      <td>7.193619e+04</td>\n",
       "      <td>96.653299</td>\n",
       "      <td>10.487806</td>\n",
       "      <td>2.894723</td>\n",
       "      <td>62397.405202</td>\n",
       "      <td>0.581654</td>\n",
       "      <td>0.45584</td>\n",
       "      <td>0.499797</td>\n",
       "      <td>57510.492818</td>\n",
       "      <td>0.402769</td>\n",
       "    </tr>\n",
       "    <tr>\n",
       "      <th>min</th>\n",
       "      <td>1.00000</td>\n",
       "      <td>1.556570e+07</td>\n",
       "      <td>350.000000</td>\n",
       "      <td>18.000000</td>\n",
       "      <td>0.000000</td>\n",
       "      <td>0.000000</td>\n",
       "      <td>1.000000</td>\n",
       "      <td>0.00000</td>\n",
       "      <td>0.000000</td>\n",
       "      <td>11.580000</td>\n",
       "      <td>0.000000</td>\n",
       "    </tr>\n",
       "    <tr>\n",
       "      <th>25%</th>\n",
       "      <td>2500.75000</td>\n",
       "      <td>1.562853e+07</td>\n",
       "      <td>584.000000</td>\n",
       "      <td>32.000000</td>\n",
       "      <td>2.000000</td>\n",
       "      <td>0.000000</td>\n",
       "      <td>1.000000</td>\n",
       "      <td>0.00000</td>\n",
       "      <td>0.000000</td>\n",
       "      <td>51002.110000</td>\n",
       "      <td>0.000000</td>\n",
       "    </tr>\n",
       "    <tr>\n",
       "      <th>50%</th>\n",
       "      <td>5000.50000</td>\n",
       "      <td>1.569074e+07</td>\n",
       "      <td>652.000000</td>\n",
       "      <td>37.000000</td>\n",
       "      <td>5.000000</td>\n",
       "      <td>97198.540000</td>\n",
       "      <td>1.000000</td>\n",
       "      <td>1.00000</td>\n",
       "      <td>1.000000</td>\n",
       "      <td>100193.915000</td>\n",
       "      <td>0.000000</td>\n",
       "    </tr>\n",
       "    <tr>\n",
       "      <th>75%</th>\n",
       "      <td>7500.25000</td>\n",
       "      <td>1.575323e+07</td>\n",
       "      <td>718.000000</td>\n",
       "      <td>44.000000</td>\n",
       "      <td>7.000000</td>\n",
       "      <td>127644.240000</td>\n",
       "      <td>2.000000</td>\n",
       "      <td>1.00000</td>\n",
       "      <td>1.000000</td>\n",
       "      <td>149388.247500</td>\n",
       "      <td>0.000000</td>\n",
       "    </tr>\n",
       "    <tr>\n",
       "      <th>max</th>\n",
       "      <td>10000.00000</td>\n",
       "      <td>1.581569e+07</td>\n",
       "      <td>850.000000</td>\n",
       "      <td>92.000000</td>\n",
       "      <td>10.000000</td>\n",
       "      <td>250898.090000</td>\n",
       "      <td>4.000000</td>\n",
       "      <td>1.00000</td>\n",
       "      <td>1.000000</td>\n",
       "      <td>199992.480000</td>\n",
       "      <td>1.000000</td>\n",
       "    </tr>\n",
       "  </tbody>\n",
       "</table>\n",
       "</div>"
      ],
      "text/plain": [
       "         RowNumber    CustomerId   CreditScore           Age       Tenure  \\\n",
       "count  10000.00000  1.000000e+04  10000.000000  10000.000000  9091.000000   \n",
       "mean    5000.50000  1.569094e+07    650.528800     38.921800     4.997690   \n",
       "std     2886.89568  7.193619e+04     96.653299     10.487806     2.894723   \n",
       "min        1.00000  1.556570e+07    350.000000     18.000000     0.000000   \n",
       "25%     2500.75000  1.562853e+07    584.000000     32.000000     2.000000   \n",
       "50%     5000.50000  1.569074e+07    652.000000     37.000000     5.000000   \n",
       "75%     7500.25000  1.575323e+07    718.000000     44.000000     7.000000   \n",
       "max    10000.00000  1.581569e+07    850.000000     92.000000    10.000000   \n",
       "\n",
       "             Balance  NumOfProducts    HasCrCard  IsActiveMember  \\\n",
       "count   10000.000000   10000.000000  10000.00000    10000.000000   \n",
       "mean    76485.889288       1.530200      0.70550        0.515100   \n",
       "std     62397.405202       0.581654      0.45584        0.499797   \n",
       "min         0.000000       1.000000      0.00000        0.000000   \n",
       "25%         0.000000       1.000000      0.00000        0.000000   \n",
       "50%     97198.540000       1.000000      1.00000        1.000000   \n",
       "75%    127644.240000       2.000000      1.00000        1.000000   \n",
       "max    250898.090000       4.000000      1.00000        1.000000   \n",
       "\n",
       "       EstimatedSalary        Exited  \n",
       "count     10000.000000  10000.000000  \n",
       "mean     100090.239881      0.203700  \n",
       "std       57510.492818      0.402769  \n",
       "min          11.580000      0.000000  \n",
       "25%       51002.110000      0.000000  \n",
       "50%      100193.915000      0.000000  \n",
       "75%      149388.247500      0.000000  \n",
       "max      199992.480000      1.000000  "
      ]
     },
     "execution_count": 6,
     "metadata": {},
     "output_type": "execute_result"
    }
   ],
   "source": [
    "df.describe()"
   ]
  },
  {
   "cell_type": "code",
   "execution_count": 7,
   "id": "46dfc359",
   "metadata": {},
   "outputs": [
    {
     "data": {
      "text/html": [
       "<div>\n",
       "<style scoped>\n",
       "    .dataframe tbody tr th:only-of-type {\n",
       "        vertical-align: middle;\n",
       "    }\n",
       "\n",
       "    .dataframe tbody tr th {\n",
       "        vertical-align: top;\n",
       "    }\n",
       "\n",
       "    .dataframe thead th {\n",
       "        text-align: right;\n",
       "    }\n",
       "</style>\n",
       "<table border=\"1\" class=\"dataframe\">\n",
       "  <thead>\n",
       "    <tr style=\"text-align: right;\">\n",
       "      <th></th>\n",
       "      <th>RowNumber</th>\n",
       "      <th>CustomerId</th>\n",
       "      <th>Surname</th>\n",
       "      <th>CreditScore</th>\n",
       "      <th>Geography</th>\n",
       "      <th>Gender</th>\n",
       "      <th>Age</th>\n",
       "      <th>Tenure</th>\n",
       "      <th>Balance</th>\n",
       "      <th>NumOfProducts</th>\n",
       "      <th>HasCrCard</th>\n",
       "      <th>IsActiveMember</th>\n",
       "      <th>EstimatedSalary</th>\n",
       "      <th>Exited</th>\n",
       "    </tr>\n",
       "  </thead>\n",
       "  <tbody>\n",
       "    <tr>\n",
       "      <th>7312</th>\n",
       "      <td>7313</td>\n",
       "      <td>15688264</td>\n",
       "      <td>Nkemdilim</td>\n",
       "      <td>629</td>\n",
       "      <td>France</td>\n",
       "      <td>Female</td>\n",
       "      <td>43</td>\n",
       "      <td>0.0</td>\n",
       "      <td>0.00</td>\n",
       "      <td>2</td>\n",
       "      <td>1</td>\n",
       "      <td>1</td>\n",
       "      <td>41263.69</td>\n",
       "      <td>0</td>\n",
       "    </tr>\n",
       "    <tr>\n",
       "      <th>7936</th>\n",
       "      <td>7937</td>\n",
       "      <td>15617401</td>\n",
       "      <td>Thomson</td>\n",
       "      <td>468</td>\n",
       "      <td>France</td>\n",
       "      <td>Male</td>\n",
       "      <td>22</td>\n",
       "      <td>2.0</td>\n",
       "      <td>0.00</td>\n",
       "      <td>2</td>\n",
       "      <td>1</td>\n",
       "      <td>0</td>\n",
       "      <td>28123.99</td>\n",
       "      <td>0</td>\n",
       "    </tr>\n",
       "    <tr>\n",
       "      <th>5580</th>\n",
       "      <td>5581</td>\n",
       "      <td>15786249</td>\n",
       "      <td>Whitfield</td>\n",
       "      <td>616</td>\n",
       "      <td>Spain</td>\n",
       "      <td>Male</td>\n",
       "      <td>30</td>\n",
       "      <td>2.0</td>\n",
       "      <td>0.00</td>\n",
       "      <td>2</td>\n",
       "      <td>1</td>\n",
       "      <td>0</td>\n",
       "      <td>199099.51</td>\n",
       "      <td>0</td>\n",
       "    </tr>\n",
       "    <tr>\n",
       "      <th>5796</th>\n",
       "      <td>5797</td>\n",
       "      <td>15674254</td>\n",
       "      <td>Kerr</td>\n",
       "      <td>554</td>\n",
       "      <td>Spain</td>\n",
       "      <td>Female</td>\n",
       "      <td>45</td>\n",
       "      <td>4.0</td>\n",
       "      <td>0.00</td>\n",
       "      <td>2</td>\n",
       "      <td>1</td>\n",
       "      <td>1</td>\n",
       "      <td>193412.05</td>\n",
       "      <td>0</td>\n",
       "    </tr>\n",
       "    <tr>\n",
       "      <th>7831</th>\n",
       "      <td>7832</td>\n",
       "      <td>15635143</td>\n",
       "      <td>Fennescey</td>\n",
       "      <td>749</td>\n",
       "      <td>France</td>\n",
       "      <td>Male</td>\n",
       "      <td>42</td>\n",
       "      <td>2.0</td>\n",
       "      <td>56726.83</td>\n",
       "      <td>2</td>\n",
       "      <td>0</td>\n",
       "      <td>1</td>\n",
       "      <td>185543.35</td>\n",
       "      <td>0</td>\n",
       "    </tr>\n",
       "    <tr>\n",
       "      <th>3716</th>\n",
       "      <td>3717</td>\n",
       "      <td>15699492</td>\n",
       "      <td>Lorenzo</td>\n",
       "      <td>665</td>\n",
       "      <td>Germany</td>\n",
       "      <td>Female</td>\n",
       "      <td>27</td>\n",
       "      <td>2.0</td>\n",
       "      <td>147435.96</td>\n",
       "      <td>1</td>\n",
       "      <td>0</td>\n",
       "      <td>0</td>\n",
       "      <td>187508.06</td>\n",
       "      <td>0</td>\n",
       "    </tr>\n",
       "    <tr>\n",
       "      <th>1666</th>\n",
       "      <td>1667</td>\n",
       "      <td>15579706</td>\n",
       "      <td>Curtis</td>\n",
       "      <td>611</td>\n",
       "      <td>France</td>\n",
       "      <td>Female</td>\n",
       "      <td>46</td>\n",
       "      <td>5.0</td>\n",
       "      <td>0.00</td>\n",
       "      <td>1</td>\n",
       "      <td>1</td>\n",
       "      <td>0</td>\n",
       "      <td>77677.14</td>\n",
       "      <td>1</td>\n",
       "    </tr>\n",
       "    <tr>\n",
       "      <th>6750</th>\n",
       "      <td>6751</td>\n",
       "      <td>15690546</td>\n",
       "      <td>Riley</td>\n",
       "      <td>618</td>\n",
       "      <td>France</td>\n",
       "      <td>Female</td>\n",
       "      <td>42</td>\n",
       "      <td>2.0</td>\n",
       "      <td>0.00</td>\n",
       "      <td>4</td>\n",
       "      <td>0</td>\n",
       "      <td>0</td>\n",
       "      <td>111097.39</td>\n",
       "      <td>1</td>\n",
       "    </tr>\n",
       "    <tr>\n",
       "      <th>8125</th>\n",
       "      <td>8126</td>\n",
       "      <td>15666982</td>\n",
       "      <td>Spears</td>\n",
       "      <td>629</td>\n",
       "      <td>Germany</td>\n",
       "      <td>Female</td>\n",
       "      <td>38</td>\n",
       "      <td>9.0</td>\n",
       "      <td>123948.85</td>\n",
       "      <td>1</td>\n",
       "      <td>1</td>\n",
       "      <td>0</td>\n",
       "      <td>76053.07</td>\n",
       "      <td>0</td>\n",
       "    </tr>\n",
       "    <tr>\n",
       "      <th>2123</th>\n",
       "      <td>2124</td>\n",
       "      <td>15723320</td>\n",
       "      <td>Azubuike</td>\n",
       "      <td>651</td>\n",
       "      <td>Germany</td>\n",
       "      <td>Female</td>\n",
       "      <td>25</td>\n",
       "      <td>2.0</td>\n",
       "      <td>109175.14</td>\n",
       "      <td>2</td>\n",
       "      <td>1</td>\n",
       "      <td>0</td>\n",
       "      <td>114566.47</td>\n",
       "      <td>0</td>\n",
       "    </tr>\n",
       "  </tbody>\n",
       "</table>\n",
       "</div>"
      ],
      "text/plain": [
       "      RowNumber  CustomerId    Surname  CreditScore Geography  Gender  Age  \\\n",
       "7312       7313    15688264  Nkemdilim          629    France  Female   43   \n",
       "7936       7937    15617401    Thomson          468    France    Male   22   \n",
       "5580       5581    15786249  Whitfield          616     Spain    Male   30   \n",
       "5796       5797    15674254       Kerr          554     Spain  Female   45   \n",
       "7831       7832    15635143  Fennescey          749    France    Male   42   \n",
       "3716       3717    15699492    Lorenzo          665   Germany  Female   27   \n",
       "1666       1667    15579706     Curtis          611    France  Female   46   \n",
       "6750       6751    15690546      Riley          618    France  Female   42   \n",
       "8125       8126    15666982     Spears          629   Germany  Female   38   \n",
       "2123       2124    15723320   Azubuike          651   Germany  Female   25   \n",
       "\n",
       "      Tenure    Balance  NumOfProducts  HasCrCard  IsActiveMember  \\\n",
       "7312     0.0       0.00              2          1               1   \n",
       "7936     2.0       0.00              2          1               0   \n",
       "5580     2.0       0.00              2          1               0   \n",
       "5796     4.0       0.00              2          1               1   \n",
       "7831     2.0   56726.83              2          0               1   \n",
       "3716     2.0  147435.96              1          0               0   \n",
       "1666     5.0       0.00              1          1               0   \n",
       "6750     2.0       0.00              4          0               0   \n",
       "8125     9.0  123948.85              1          1               0   \n",
       "2123     2.0  109175.14              2          1               0   \n",
       "\n",
       "      EstimatedSalary  Exited  \n",
       "7312         41263.69       0  \n",
       "7936         28123.99       0  \n",
       "5580        199099.51       0  \n",
       "5796        193412.05       0  \n",
       "7831        185543.35       0  \n",
       "3716        187508.06       0  \n",
       "1666         77677.14       1  \n",
       "6750        111097.39       1  \n",
       "8125         76053.07       0  \n",
       "2123        114566.47       0  "
      ]
     },
     "execution_count": 7,
     "metadata": {},
     "output_type": "execute_result"
    }
   ],
   "source": [
    "df.sample(10)"
   ]
  },
  {
   "cell_type": "markdown",
   "id": "e84eca47",
   "metadata": {},
   "source": [
    "## 2.2 Подготовка данных"
   ]
  },
  {
   "cell_type": "markdown",
   "id": "f1f186cb",
   "metadata": {},
   "source": [
    "### 2.2.1 Предобработка данных"
   ]
  },
  {
   "cell_type": "markdown",
   "id": "b04f80c6",
   "metadata": {},
   "source": [
    "Приведем наименования столбцов к snake_case"
   ]
  },
  {
   "cell_type": "code",
   "execution_count": 8,
   "id": "768e38db",
   "metadata": {},
   "outputs": [],
   "source": [
    "df.columns = df.columns.str.lower()"
   ]
  },
  {
   "cell_type": "code",
   "execution_count": 9,
   "id": "b69ab670",
   "metadata": {},
   "outputs": [],
   "source": [
    "df.columns = (['row_number', 'customer_id', 'surname', 'credit_score', 'geography', \n",
    "               'gender', 'age', 'tenure', 'balance', 'num_of_products', 'has_card', 'is_active_member', 'estimated_salary',\n",
    "              'exited'])"
   ]
  },
  {
   "cell_type": "code",
   "execution_count": 10,
   "id": "45926204",
   "metadata": {},
   "outputs": [
    {
     "data": {
      "text/plain": [
       "Index(['row_number', 'customer_id', 'surname', 'credit_score', 'geography',\n",
       "       'gender', 'age', 'tenure', 'balance', 'num_of_products', 'has_card',\n",
       "       'is_active_member', 'estimated_salary', 'exited'],\n",
       "      dtype='object')"
      ]
     },
     "execution_count": 10,
     "metadata": {},
     "output_type": "execute_result"
    }
   ],
   "source": [
    "df.columns"
   ]
  },
  {
   "cell_type": "markdown",
   "id": "f3d601e9",
   "metadata": {},
   "source": [
    "Столбцы is_active_member, has_card, exited явно булевы а не int"
   ]
  },
  {
   "cell_type": "code",
   "execution_count": 11,
   "id": "afad8cca",
   "metadata": {},
   "outputs": [],
   "source": [
    "df.is_active_member = df.is_active_member.astype(bool)\n",
    "df.has_card = df.has_card.astype(bool)"
   ]
  },
  {
   "cell_type": "markdown",
   "id": "908b0560",
   "metadata": {},
   "source": [
    "В столбце tenure есть 909 пропусков. Вероятно это программная ошибка. Так как по другим столбцам пропуски заполнить невозможно, придется их отбросить, так как случайный лес и логистическая регрессия не могут работать с NAN"
   ]
  },
  {
   "cell_type": "code",
   "execution_count": 12,
   "id": "d14b9271",
   "metadata": {},
   "outputs": [],
   "source": [
    "df = df[~df['tenure'].isna() == True]\n",
    "df = df.reset_index(drop=True)"
   ]
  },
  {
   "cell_type": "code",
   "execution_count": 13,
   "id": "58a5d609",
   "metadata": {},
   "outputs": [
    {
     "name": "stdout",
     "output_type": "stream",
     "text": [
      "<class 'pandas.core.frame.DataFrame'>\n",
      "RangeIndex: 9091 entries, 0 to 9090\n",
      "Data columns (total 14 columns):\n",
      " #   Column            Non-Null Count  Dtype  \n",
      "---  ------            --------------  -----  \n",
      " 0   row_number        9091 non-null   int64  \n",
      " 1   customer_id       9091 non-null   int64  \n",
      " 2   surname           9091 non-null   object \n",
      " 3   credit_score      9091 non-null   int64  \n",
      " 4   geography         9091 non-null   object \n",
      " 5   gender            9091 non-null   object \n",
      " 6   age               9091 non-null   int64  \n",
      " 7   tenure            9091 non-null   float64\n",
      " 8   balance           9091 non-null   float64\n",
      " 9   num_of_products   9091 non-null   int64  \n",
      " 10  has_card          9091 non-null   bool   \n",
      " 11  is_active_member  9091 non-null   bool   \n",
      " 12  estimated_salary  9091 non-null   float64\n",
      " 13  exited            9091 non-null   int64  \n",
      "dtypes: bool(2), float64(3), int64(6), object(3)\n",
      "memory usage: 870.2+ KB\n"
     ]
    }
   ],
   "source": [
    "df.info()"
   ]
  },
  {
   "cell_type": "markdown",
   "id": "1af09cb9",
   "metadata": {},
   "source": [
    "**Так же было обнаружено следующее:**\n",
    "1. В столбце surname есть явные ошибки (в частности фамилии с символами \"?\"). С ними так же что-то сделать невозможно, однако мешать это не будет, так как очевидно, что факт ухода от фамилии не зависит"
   ]
  },
  {
   "cell_type": "markdown",
   "id": "93d016d9",
   "metadata": {},
   "source": [
    "### 2.2.2 Предобработка признаков"
   ]
  },
  {
   "cell_type": "markdown",
   "id": "7b7ffb92",
   "metadata": {},
   "source": [
    "Так как модель учитывает только численные признаки, а признаки geography, gender явно категориальные, создадим для них дамми-признаки c помощью прямого кодирования так как данный метод подходит для всех моделей. Признаки не зависят друг от друга. В дамми ловушку попасть не должны"
   ]
  },
  {
   "cell_type": "markdown",
   "id": "97d4706e",
   "metadata": {},
   "source": [
    "Так как от фамилии факт ухода точно не зависит, её учитывать не будем"
   ]
  },
  {
   "cell_type": "code",
   "execution_count": 14,
   "id": "43f21c79",
   "metadata": {},
   "outputs": [
    {
     "data": {
      "text/html": [
       "<div>\n",
       "<style scoped>\n",
       "    .dataframe tbody tr th:only-of-type {\n",
       "        vertical-align: middle;\n",
       "    }\n",
       "\n",
       "    .dataframe tbody tr th {\n",
       "        vertical-align: top;\n",
       "    }\n",
       "\n",
       "    .dataframe thead th {\n",
       "        text-align: right;\n",
       "    }\n",
       "</style>\n",
       "<table border=\"1\" class=\"dataframe\">\n",
       "  <thead>\n",
       "    <tr style=\"text-align: right;\">\n",
       "      <th></th>\n",
       "      <th>credit_score</th>\n",
       "      <th>geography</th>\n",
       "      <th>gender</th>\n",
       "      <th>age</th>\n",
       "      <th>tenure</th>\n",
       "      <th>balance</th>\n",
       "      <th>num_of_products</th>\n",
       "      <th>has_card</th>\n",
       "      <th>is_active_member</th>\n",
       "      <th>estimated_salary</th>\n",
       "      <th>exited</th>\n",
       "    </tr>\n",
       "  </thead>\n",
       "  <tbody>\n",
       "    <tr>\n",
       "      <th>0</th>\n",
       "      <td>619</td>\n",
       "      <td>France</td>\n",
       "      <td>Female</td>\n",
       "      <td>42</td>\n",
       "      <td>2.0</td>\n",
       "      <td>0.00</td>\n",
       "      <td>1</td>\n",
       "      <td>True</td>\n",
       "      <td>True</td>\n",
       "      <td>101348.88</td>\n",
       "      <td>1</td>\n",
       "    </tr>\n",
       "    <tr>\n",
       "      <th>1</th>\n",
       "      <td>608</td>\n",
       "      <td>Spain</td>\n",
       "      <td>Female</td>\n",
       "      <td>41</td>\n",
       "      <td>1.0</td>\n",
       "      <td>83807.86</td>\n",
       "      <td>1</td>\n",
       "      <td>False</td>\n",
       "      <td>True</td>\n",
       "      <td>112542.58</td>\n",
       "      <td>0</td>\n",
       "    </tr>\n",
       "    <tr>\n",
       "      <th>2</th>\n",
       "      <td>502</td>\n",
       "      <td>France</td>\n",
       "      <td>Female</td>\n",
       "      <td>42</td>\n",
       "      <td>8.0</td>\n",
       "      <td>159660.80</td>\n",
       "      <td>3</td>\n",
       "      <td>True</td>\n",
       "      <td>False</td>\n",
       "      <td>113931.57</td>\n",
       "      <td>1</td>\n",
       "    </tr>\n",
       "    <tr>\n",
       "      <th>3</th>\n",
       "      <td>699</td>\n",
       "      <td>France</td>\n",
       "      <td>Female</td>\n",
       "      <td>39</td>\n",
       "      <td>1.0</td>\n",
       "      <td>0.00</td>\n",
       "      <td>2</td>\n",
       "      <td>False</td>\n",
       "      <td>False</td>\n",
       "      <td>93826.63</td>\n",
       "      <td>0</td>\n",
       "    </tr>\n",
       "    <tr>\n",
       "      <th>4</th>\n",
       "      <td>850</td>\n",
       "      <td>Spain</td>\n",
       "      <td>Female</td>\n",
       "      <td>43</td>\n",
       "      <td>2.0</td>\n",
       "      <td>125510.82</td>\n",
       "      <td>1</td>\n",
       "      <td>True</td>\n",
       "      <td>True</td>\n",
       "      <td>79084.10</td>\n",
       "      <td>0</td>\n",
       "    </tr>\n",
       "  </tbody>\n",
       "</table>\n",
       "</div>"
      ],
      "text/plain": [
       "   credit_score geography  gender  age  tenure    balance  num_of_products  \\\n",
       "0           619    France  Female   42     2.0       0.00                1   \n",
       "1           608     Spain  Female   41     1.0   83807.86                1   \n",
       "2           502    France  Female   42     8.0  159660.80                3   \n",
       "3           699    France  Female   39     1.0       0.00                2   \n",
       "4           850     Spain  Female   43     2.0  125510.82                1   \n",
       "\n",
       "   has_card  is_active_member  estimated_salary  exited  \n",
       "0      True              True         101348.88       1  \n",
       "1     False              True         112542.58       0  \n",
       "2      True             False         113931.57       1  \n",
       "3     False             False          93826.63       0  \n",
       "4      True              True          79084.10       0  "
      ]
     },
     "execution_count": 14,
     "metadata": {},
     "output_type": "execute_result"
    }
   ],
   "source": [
    "df_ohe = df.drop(['surname', 'row_number', 'customer_id'], axis = 1)\n",
    "df_ohe.head()"
   ]
  },
  {
   "cell_type": "code",
   "execution_count": 15,
   "id": "aa7594b9",
   "metadata": {},
   "outputs": [
    {
     "name": "stdout",
     "output_type": "stream",
     "text": [
      "<class 'pandas.core.frame.DataFrame'>\n",
      "RangeIndex: 9091 entries, 0 to 9090\n",
      "Data columns (total 11 columns):\n",
      " #   Column            Non-Null Count  Dtype  \n",
      "---  ------            --------------  -----  \n",
      " 0   credit_score      9091 non-null   int64  \n",
      " 1   geography         9091 non-null   object \n",
      " 2   gender            9091 non-null   object \n",
      " 3   age               9091 non-null   int64  \n",
      " 4   tenure            9091 non-null   float64\n",
      " 5   balance           9091 non-null   float64\n",
      " 6   num_of_products   9091 non-null   int64  \n",
      " 7   has_card          9091 non-null   bool   \n",
      " 8   is_active_member  9091 non-null   bool   \n",
      " 9   estimated_salary  9091 non-null   float64\n",
      " 10  exited            9091 non-null   int64  \n",
      "dtypes: bool(2), float64(3), int64(4), object(2)\n",
      "memory usage: 657.1+ KB\n"
     ]
    }
   ],
   "source": [
    "df_ohe.info()"
   ]
  },
  {
   "cell_type": "markdown",
   "id": "f0f163d2",
   "metadata": {},
   "source": [
    "Для обучения и проверки моделей необходимо разбить данные на выборки. Поделим датасет на выборки"
   ]
  },
  {
   "cell_type": "code",
   "execution_count": 16,
   "id": "b368c2e7",
   "metadata": {},
   "outputs": [],
   "source": [
    "df_train, df_valid = train_test_split(df_ohe, test_size=0.4, random_state=12345)\n",
    "df_valid, df_test = train_test_split(df_valid, test_size=0.5, random_state=12345)"
   ]
  },
  {
   "cell_type": "code",
   "execution_count": 17,
   "id": "2d161fef",
   "metadata": {},
   "outputs": [
    {
     "name": "stdout",
     "output_type": "stream",
     "text": [
      "<class 'pandas.core.frame.DataFrame'>\n",
      "Int64Index: 5454 entries, 8483 to 4578\n",
      "Data columns (total 11 columns):\n",
      " #   Column            Non-Null Count  Dtype  \n",
      "---  ------            --------------  -----  \n",
      " 0   credit_score      5454 non-null   int64  \n",
      " 1   geography         5454 non-null   object \n",
      " 2   gender            5454 non-null   object \n",
      " 3   age               5454 non-null   int64  \n",
      " 4   tenure            5454 non-null   float64\n",
      " 5   balance           5454 non-null   float64\n",
      " 6   num_of_products   5454 non-null   int64  \n",
      " 7   has_card          5454 non-null   bool   \n",
      " 8   is_active_member  5454 non-null   bool   \n",
      " 9   estimated_salary  5454 non-null   float64\n",
      " 10  exited            5454 non-null   int64  \n",
      "dtypes: bool(2), float64(3), int64(4), object(2)\n",
      "memory usage: 436.7+ KB\n",
      "<class 'pandas.core.frame.DataFrame'>\n",
      "Int64Index: 1818 entries, 6754 to 2218\n",
      "Data columns (total 11 columns):\n",
      " #   Column            Non-Null Count  Dtype  \n",
      "---  ------            --------------  -----  \n",
      " 0   credit_score      1818 non-null   int64  \n",
      " 1   geography         1818 non-null   object \n",
      " 2   gender            1818 non-null   object \n",
      " 3   age               1818 non-null   int64  \n",
      " 4   tenure            1818 non-null   float64\n",
      " 5   balance           1818 non-null   float64\n",
      " 6   num_of_products   1818 non-null   int64  \n",
      " 7   has_card          1818 non-null   bool   \n",
      " 8   is_active_member  1818 non-null   bool   \n",
      " 9   estimated_salary  1818 non-null   float64\n",
      " 10  exited            1818 non-null   int64  \n",
      "dtypes: bool(2), float64(3), int64(4), object(2)\n",
      "memory usage: 145.6+ KB\n",
      "<class 'pandas.core.frame.DataFrame'>\n",
      "Int64Index: 1819 entries, 4684 to 7037\n",
      "Data columns (total 11 columns):\n",
      " #   Column            Non-Null Count  Dtype  \n",
      "---  ------            --------------  -----  \n",
      " 0   credit_score      1819 non-null   int64  \n",
      " 1   geography         1819 non-null   object \n",
      " 2   gender            1819 non-null   object \n",
      " 3   age               1819 non-null   int64  \n",
      " 4   tenure            1819 non-null   float64\n",
      " 5   balance           1819 non-null   float64\n",
      " 6   num_of_products   1819 non-null   int64  \n",
      " 7   has_card          1819 non-null   bool   \n",
      " 8   is_active_member  1819 non-null   bool   \n",
      " 9   estimated_salary  1819 non-null   float64\n",
      " 10  exited            1819 non-null   int64  \n",
      "dtypes: bool(2), float64(3), int64(4), object(2)\n",
      "memory usage: 145.7+ KB\n"
     ]
    }
   ],
   "source": [
    "df_train.info()\n",
    "df_valid.info()\n",
    "df_test.info()"
   ]
  },
  {
   "cell_type": "code",
   "execution_count": 18,
   "id": "0ffa1e5f",
   "metadata": {},
   "outputs": [],
   "source": [
    "features_train = df_train.drop('exited', axis= 1)\n",
    "target_train = df_train.exited\n",
    "features_valid = df_valid.drop('exited', axis= 1)\n",
    "target_valid = df_valid.exited\n",
    "features_test = df_test.drop('exited', axis= 1)\n",
    "target_test = df_test.exited"
   ]
  },
  {
   "cell_type": "code",
   "execution_count": 19,
   "id": "2b18f11a",
   "metadata": {},
   "outputs": [],
   "source": [
    "encoder = OneHotEncoder(sparse = False, drop = 'first')"
   ]
  },
  {
   "cell_type": "code",
   "execution_count": 20,
   "id": "15f308e1",
   "metadata": {},
   "outputs": [
    {
     "name": "stderr",
     "output_type": "stream",
     "text": [
      "C:\\Users\\usach\\anaconda3\\lib\\site-packages\\sklearn\\preprocessing\\_encoders.py:972: FutureWarning: `sparse` was renamed to `sparse_output` in version 1.2 and will be removed in 1.4. `sparse_output` is ignored unless you leave `sparse` to its default value.\n",
      "  warnings.warn(\n"
     ]
    },
    {
     "data": {
      "text/html": [
       "<style>#sk-container-id-1 {color: black;}#sk-container-id-1 pre{padding: 0;}#sk-container-id-1 div.sk-toggleable {background-color: white;}#sk-container-id-1 label.sk-toggleable__label {cursor: pointer;display: block;width: 100%;margin-bottom: 0;padding: 0.3em;box-sizing: border-box;text-align: center;}#sk-container-id-1 label.sk-toggleable__label-arrow:before {content: \"▸\";float: left;margin-right: 0.25em;color: #696969;}#sk-container-id-1 label.sk-toggleable__label-arrow:hover:before {color: black;}#sk-container-id-1 div.sk-estimator:hover label.sk-toggleable__label-arrow:before {color: black;}#sk-container-id-1 div.sk-toggleable__content {max-height: 0;max-width: 0;overflow: hidden;text-align: left;background-color: #f0f8ff;}#sk-container-id-1 div.sk-toggleable__content pre {margin: 0.2em;color: black;border-radius: 0.25em;background-color: #f0f8ff;}#sk-container-id-1 input.sk-toggleable__control:checked~div.sk-toggleable__content {max-height: 200px;max-width: 100%;overflow: auto;}#sk-container-id-1 input.sk-toggleable__control:checked~label.sk-toggleable__label-arrow:before {content: \"▾\";}#sk-container-id-1 div.sk-estimator input.sk-toggleable__control:checked~label.sk-toggleable__label {background-color: #d4ebff;}#sk-container-id-1 div.sk-label input.sk-toggleable__control:checked~label.sk-toggleable__label {background-color: #d4ebff;}#sk-container-id-1 input.sk-hidden--visually {border: 0;clip: rect(1px 1px 1px 1px);clip: rect(1px, 1px, 1px, 1px);height: 1px;margin: -1px;overflow: hidden;padding: 0;position: absolute;width: 1px;}#sk-container-id-1 div.sk-estimator {font-family: monospace;background-color: #f0f8ff;border: 1px dotted black;border-radius: 0.25em;box-sizing: border-box;margin-bottom: 0.5em;}#sk-container-id-1 div.sk-estimator:hover {background-color: #d4ebff;}#sk-container-id-1 div.sk-parallel-item::after {content: \"\";width: 100%;border-bottom: 1px solid gray;flex-grow: 1;}#sk-container-id-1 div.sk-label:hover label.sk-toggleable__label {background-color: #d4ebff;}#sk-container-id-1 div.sk-serial::before {content: \"\";position: absolute;border-left: 1px solid gray;box-sizing: border-box;top: 0;bottom: 0;left: 50%;z-index: 0;}#sk-container-id-1 div.sk-serial {display: flex;flex-direction: column;align-items: center;background-color: white;padding-right: 0.2em;padding-left: 0.2em;position: relative;}#sk-container-id-1 div.sk-item {position: relative;z-index: 1;}#sk-container-id-1 div.sk-parallel {display: flex;align-items: stretch;justify-content: center;background-color: white;position: relative;}#sk-container-id-1 div.sk-item::before, #sk-container-id-1 div.sk-parallel-item::before {content: \"\";position: absolute;border-left: 1px solid gray;box-sizing: border-box;top: 0;bottom: 0;left: 50%;z-index: -1;}#sk-container-id-1 div.sk-parallel-item {display: flex;flex-direction: column;z-index: 1;position: relative;background-color: white;}#sk-container-id-1 div.sk-parallel-item:first-child::after {align-self: flex-end;width: 50%;}#sk-container-id-1 div.sk-parallel-item:last-child::after {align-self: flex-start;width: 50%;}#sk-container-id-1 div.sk-parallel-item:only-child::after {width: 0;}#sk-container-id-1 div.sk-dashed-wrapped {border: 1px dashed gray;margin: 0 0.4em 0.5em 0.4em;box-sizing: border-box;padding-bottom: 0.4em;background-color: white;}#sk-container-id-1 div.sk-label label {font-family: monospace;font-weight: bold;display: inline-block;line-height: 1.2em;}#sk-container-id-1 div.sk-label-container {text-align: center;}#sk-container-id-1 div.sk-container {/* jupyter's `normalize.less` sets `[hidden] { display: none; }` but bootstrap.min.css set `[hidden] { display: none !important; }` so we also need the `!important` here to be able to override the default hidden behavior on the sphinx rendered scikit-learn.org. See: https://github.com/scikit-learn/scikit-learn/issues/21755 */display: inline-block !important;position: relative;}#sk-container-id-1 div.sk-text-repr-fallback {display: none;}</style><div id=\"sk-container-id-1\" class=\"sk-top-container\"><div class=\"sk-text-repr-fallback\"><pre>OneHotEncoder(drop=&#x27;first&#x27;, sparse=False, sparse_output=False)</pre><b>In a Jupyter environment, please rerun this cell to show the HTML representation or trust the notebook. <br />On GitHub, the HTML representation is unable to render, please try loading this page with nbviewer.org.</b></div><div class=\"sk-container\" hidden><div class=\"sk-item\"><div class=\"sk-estimator sk-toggleable\"><input class=\"sk-toggleable__control sk-hidden--visually\" id=\"sk-estimator-id-1\" type=\"checkbox\" checked><label for=\"sk-estimator-id-1\" class=\"sk-toggleable__label sk-toggleable__label-arrow\">OneHotEncoder</label><div class=\"sk-toggleable__content\"><pre>OneHotEncoder(drop=&#x27;first&#x27;, sparse=False, sparse_output=False)</pre></div></div></div></div></div>"
      ],
      "text/plain": [
       "OneHotEncoder(drop='first', sparse=False, sparse_output=False)"
      ]
     },
     "execution_count": 20,
     "metadata": {},
     "output_type": "execute_result"
    }
   ],
   "source": [
    "encoder.fit(features_train[['geography', 'gender', 'has_card', 'is_active_member']])"
   ]
  },
  {
   "cell_type": "code",
   "execution_count": 21,
   "id": "af94fa21",
   "metadata": {},
   "outputs": [],
   "source": [
    "ohe_train = (pd.DataFrame(encoder.transform(features_train[['geography', 'gender', 'has_card', 'is_active_member']]),\n",
    "                          columns = ['is_spain', 'is_germany', 'female', 'has_card', 'is_acive_member']))\n",
    "ohe_valid = (pd.DataFrame(encoder.transform(features_valid[['geography', 'gender', 'has_card', 'is_active_member']]),\n",
    "                          columns = ['is_spain', 'is_germany', 'female', 'has_card', 'is_acive_member']))\n",
    "ohe_test = (pd.DataFrame(encoder.transform(features_test[['geography', 'gender', 'has_card', 'is_active_member']]),\n",
    "                          columns = ['is_spain', 'is_germany', 'female', 'has_card', 'is_acive_member']))"
   ]
  },
  {
   "cell_type": "code",
   "execution_count": 22,
   "id": "d46c9083",
   "metadata": {},
   "outputs": [],
   "source": [
    "features_train = (features_train.drop(['geography', 'gender', 'has_card', 'is_active_member'], axis = 1)\n",
    "                  .reset_index(drop=True))                  \n",
    "features_valid = (features_valid.drop(['geography', 'gender', 'has_card', 'is_active_member'], axis = 1)\n",
    "                 .reset_index(drop=True))                 \n",
    "features_test = (features_test.drop(['geography', 'gender', 'has_card', 'is_active_member'], axis = 1)\n",
    "                 .reset_index(drop=True))                 "
   ]
  },
  {
   "cell_type": "code",
   "execution_count": 23,
   "id": "4dd14093",
   "metadata": {},
   "outputs": [],
   "source": [
    "features_train = features_train.join(ohe_train)\n",
    "features_valid = features_valid.join(ohe_valid)\n",
    "features_test = features_test.join(ohe_test)"
   ]
  },
  {
   "cell_type": "code",
   "execution_count": 24,
   "id": "5cffce2b",
   "metadata": {},
   "outputs": [],
   "source": [
    "scaler = StandardScaler()\n",
    "scaler.fit(features_train) \n",
    "features_train = scaler.transform(features_train)\n",
    "features_valid = scaler.transform(features_valid)\n",
    "features_test = scaler.transform(features_test)"
   ]
  },
  {
   "cell_type": "markdown",
   "id": "dd301827",
   "metadata": {},
   "source": [
    "Так же очевидно, что признаки имеют разный масштаб. Стандартзируем данные"
   ]
  },
  {
   "cell_type": "markdown",
   "id": "278e461d",
   "metadata": {},
   "source": [
    "# 3. Исследование баланса классов и обучение модели"
   ]
  },
  {
   "cell_type": "code",
   "execution_count": 25,
   "id": "baf306c7",
   "metadata": {},
   "outputs": [
    {
     "data": {
      "image/png": "[encoded data removed]",
      "text/plain": [
       "<Figure size 432x288 with 1 Axes>"
      ]
     },
     "metadata": {
      "needs_background": "light"
     },
     "output_type": "display_data"
    }
   ],
   "source": [
    "class_frequency = df.exited.value_counts(normalize= True)\n",
    "class_frequency.plot(kind ='bar');\n",
    "plt.title('частота класса в целевом признаке');\n",
    "plt.ylabel('частота класса');\n",
    "plt.xlabel('класс');\n",
    "plt.show()"
   ]
  },
  {
   "cell_type": "markdown",
   "id": "76fe2557",
   "metadata": {},
   "source": [
    "В целевом признаке наблюдается несбалансированность классов (отрицательных ответов явно больше)"
   ]
  },
  {
   "cell_type": "markdown",
   "id": "bc2fa6de",
   "metadata": {},
   "source": [
    "Для анализа выберем решающее дерево и посмотрим на балланс классов в его предсказаниях"
   ]
  },
  {
   "cell_type": "code",
   "execution_count": 26,
   "id": "bba3b923",
   "metadata": {},
   "outputs": [
    {
     "data": {
      "text/plain": [
       "0.8333333333333334"
      ]
     },
     "execution_count": 26,
     "metadata": {},
     "output_type": "execute_result"
    }
   ],
   "source": [
    "model = DecisionTreeClassifier(max_depth = 3, random_state= 12345)\n",
    "model.fit(features_train, target_train)\n",
    "predictions = model.predict(features_valid) \n",
    "accuracy_score(target_valid, model.predict(features_valid)) "
   ]
  },
  {
   "cell_type": "code",
   "execution_count": 27,
   "id": "72ef538f",
   "metadata": {},
   "outputs": [
    {
     "data": {
      "text/plain": [
       "0.3726708074534161"
      ]
     },
     "execution_count": 27,
     "metadata": {},
     "output_type": "execute_result"
    }
   ],
   "source": [
    "f1_score(target_valid, predictions)"
   ]
  },
  {
   "cell_type": "code",
   "execution_count": 28,
   "id": "899b4a39",
   "metadata": {},
   "outputs": [
    {
     "data": {
      "text/plain": [
       "0.7994383873562604"
      ]
     },
     "execution_count": 28,
     "metadata": {},
     "output_type": "execute_result"
    }
   ],
   "source": [
    "probabilities_valid = model.predict_proba(features_valid)\n",
    "probabilities_one_valid = probabilities_valid[:, 1]\n",
    "roc_auc_score(target_valid, probabilities_one_valid)"
   ]
  },
  {
   "cell_type": "markdown",
   "id": "d5924f23",
   "metadata": {},
   "source": [
    "Проверим на переобучение"
   ]
  },
  {
   "cell_type": "code",
   "execution_count": 29,
   "id": "92412e7a",
   "metadata": {},
   "outputs": [
    {
     "data": {
      "text/plain": [
       "0.8553355335533553"
      ]
     },
     "execution_count": 29,
     "metadata": {},
     "output_type": "execute_result"
    }
   ],
   "source": [
    "model = DecisionTreeClassifier(max_depth = 5, random_state= 12345)\n",
    "model.fit(features_train, target_train)\n",
    "accuracy_score(target_train, model.predict(features_train)) "
   ]
  },
  {
   "cell_type": "markdown",
   "id": "1c804401",
   "metadata": {},
   "source": [
    "модель не переобучена"
   ]
  },
  {
   "cell_type": "markdown",
   "id": "57e10453",
   "metadata": {},
   "source": [
    "Посмотрим на балланс классов в предсказаниях"
   ]
  },
  {
   "cell_type": "code",
   "execution_count": 30,
   "id": "0ee24094",
   "metadata": {},
   "outputs": [],
   "source": [
    "class_frequency = pd.Series(model.predict(features_valid)).value_counts(normalize = True)"
   ]
  },
  {
   "cell_type": "code",
   "execution_count": 31,
   "id": "6304c972",
   "metadata": {},
   "outputs": [
    {
     "data": {
      "image/png": "[encoded data removed]",
      "text/plain": [
       "<Figure size 432x288 with 1 Axes>"
      ]
     },
     "metadata": {
      "needs_background": "light"
     },
     "output_type": "display_data"
    }
   ],
   "source": [
    "class_frequency\n",
    "class_frequency.plot(kind ='bar');\n",
    "plt.title('частота класса в предсказаниях');\n",
    "plt.ylabel('частота класса');\n",
    "plt.xlabel('класс');\n",
    "plt.show()"
   ]
  },
  {
   "cell_type": "markdown",
   "id": "88d7ce69",
   "metadata": {},
   "source": [
    "Аналогично целевому признаку видим дисбаланс"
   ]
  },
  {
   "cell_type": "markdown",
   "id": "0c2fb16c",
   "metadata": {},
   "source": [
    "Построим матрицу ошибок"
   ]
  },
  {
   "cell_type": "code",
   "execution_count": 32,
   "id": "f0472156",
   "metadata": {},
   "outputs": [
    {
     "data": {
      "text/plain": [
       "array([[1422,   19],\n",
       "       [ 240,  137]], dtype=int64)"
      ]
     },
     "execution_count": 32,
     "metadata": {},
     "output_type": "execute_result"
    }
   ],
   "source": [
    "confusion_matrix(target_valid, model.predict(features_valid))"
   ]
  },
  {
   "cell_type": "markdown",
   "id": "56d1b079",
   "metadata": {},
   "source": [
    "Аналогично посмотрим остальные модели со случайными гиперпараметрами"
   ]
  },
  {
   "cell_type": "code",
   "execution_count": 33,
   "id": "a8679ac6",
   "metadata": {},
   "outputs": [
    {
     "data": {
      "text/plain": [
       "0.511029411764706"
      ]
     },
     "execution_count": 33,
     "metadata": {},
     "output_type": "execute_result"
    }
   ],
   "source": [
    "model = RandomForestClassifier(n_estimators = 10,max_depth = 5, random_state= 12345)\n",
    "model.fit(features_train, target_train)\n",
    "predictions = model.predict(features_valid) \n",
    "f1_score(target_valid, predictions)"
   ]
  },
  {
   "cell_type": "code",
   "execution_count": 34,
   "id": "a0ccf015",
   "metadata": {},
   "outputs": [
    {
     "data": {
      "text/plain": [
       "0.3033932135728543"
      ]
     },
     "execution_count": 34,
     "metadata": {},
     "output_type": "execute_result"
    }
   ],
   "source": [
    "model = LogisticRegression(max_iter = 100, random_state= 12345, solver = 'liblinear')\n",
    "model.fit(features_train, target_train)\n",
    "predictions = model.predict(features_valid) \n",
    "f1_score(target_valid, predictions)"
   ]
  },
  {
   "cell_type": "markdown",
   "id": "02d953a7",
   "metadata": {},
   "source": [
    "**Вывод:**\n",
    "В ходе данного этапа был исследован балланс классов и обучено решающее дерево.\n",
    "По целевому признаку и предсказаниям модели наблюдаем сильный дисбаланс классов (признаки и модель негативны)\n",
    "На данном этапе для решающего дерева со случайными параметрами была получена f1-мера 0,372, для случайного леса 0,36, для логистической регрессии 0,31 что далеко от требуемого показателя в 0,59"
   ]
  },
  {
   "cell_type": "markdown",
   "id": "7f4f7417",
   "metadata": {},
   "source": [
    "# 4. Улучшение модели"
   ]
  },
  {
   "cell_type": "markdown",
   "id": "37964e4e",
   "metadata": {},
   "source": [
    "## 4.1. Взвешивание классов"
   ]
  },
  {
   "cell_type": "markdown",
   "id": "5f7583d1",
   "metadata": {},
   "source": [
    "Учтем вес класса при обучении модели"
   ]
  },
  {
   "cell_type": "markdown",
   "id": "c5c06aa7",
   "metadata": {},
   "source": [
    "Решающее дерево"
   ]
  },
  {
   "cell_type": "code",
   "execution_count": 35,
   "id": "ee77aeef",
   "metadata": {},
   "outputs": [],
   "source": [
    "def decession_tree(features_train, target_train, features_valid,target_valid, weight):\n",
    "    best_score = 0\n",
    "    best_depth = 0   \n",
    "    for i in range (1,10):         \n",
    "        model = DecisionTreeClassifier(max_depth = i, random_state= 12345, class_weight= weight)\n",
    "        model.fit(features_train, target_train)\n",
    "        predictions = model.predict(features_valid)\n",
    "        score = f1_score(target_valid, predictions)\n",
    "        probabilities_valid = model.predict_proba(features_valid)\n",
    "        probabilities_one_valid = probabilities_valid[:, 1]\n",
    "        if score > best_score:\n",
    "            best_score = score\n",
    "            best_depth = i\n",
    "            roc = roc_auc_score(target_valid, probabilities_one_valid)\n",
    "    return best_score, best_depth, roc    "
   ]
  },
  {
   "cell_type": "code",
   "execution_count": 36,
   "id": "bf86bb53",
   "metadata": {},
   "outputs": [],
   "source": [
    "best_score, best_depth, roc = decession_tree(features_train, target_train, features_valid,target_valid,'balanced')"
   ]
  },
  {
   "cell_type": "code",
   "execution_count": 37,
   "id": "ef134dbf",
   "metadata": {},
   "outputs": [
    {
     "name": "stdout",
     "output_type": "stream",
     "text": [
      "f1-мера: 0.5735449735449736\n",
      "глубина: 5\n",
      "roc: 0.8396523192522141\n"
     ]
    }
   ],
   "source": [
    "print('f1-мера:',best_score)\n",
    "print('глубина:',best_depth)\n",
    "print('roc:',roc)"
   ]
  },
  {
   "cell_type": "markdown",
   "id": "077b8979",
   "metadata": {},
   "source": [
    "Случайный лес"
   ]
  },
  {
   "cell_type": "code",
   "execution_count": 38,
   "id": "c33525e9",
   "metadata": {},
   "outputs": [],
   "source": [
    "def random_forest(features_train, target_train, features_valid,target_valid, weight):\n",
    "    best_score = 0\n",
    "    best_depth = 0   \n",
    "    for i in range (1,10):         \n",
    "        model = RandomForestClassifier(n_estimators = 150, max_depth = i, random_state= 12345, class_weight= weight)\n",
    "        model.fit(features_train, target_train)\n",
    "        predictions = model.predict(features_valid)\n",
    "        score = f1_score(target_valid, predictions)\n",
    "        probabilities_valid = model.predict_proba(features_valid)\n",
    "        probabilities_one_valid = probabilities_valid[:, 1]\n",
    "        if score > best_score:\n",
    "            best_score = score\n",
    "            best_depth = i\n",
    "            roc = roc_auc_score(target_valid, probabilities_one_valid)\n",
    "    return best_score, best_depth, roc  "
   ]
  },
  {
   "cell_type": "code",
   "execution_count": 39,
   "id": "95b3783a",
   "metadata": {},
   "outputs": [],
   "source": [
    "best_score, best_depth, roc = random_forest(features_train, target_train, features_valid,target_valid,'balanced')"
   ]
  },
  {
   "cell_type": "code",
   "execution_count": 40,
   "id": "00017e8d",
   "metadata": {},
   "outputs": [
    {
     "name": "stdout",
     "output_type": "stream",
     "text": [
      "f1-мера: 0.6464646464646465\n",
      "глубина: 9\n",
      "roc: 0.8700578179388393\n"
     ]
    }
   ],
   "source": [
    "print('f1-мера:',best_score)\n",
    "print('глубина:',best_depth)\n",
    "print('roc:',roc)"
   ]
  },
  {
   "cell_type": "code",
   "execution_count": 41,
   "id": "f717d54e",
   "metadata": {},
   "outputs": [],
   "source": [
    "def logistic_regression(features_train, target_train, features_valid,target_valid, weight):\n",
    "    best_score = 0\n",
    "    best_depth = 0   \n",
    "    for i in range (100,1000,100):         \n",
    "        model = LogisticRegression(max_iter = i, random_state= 12345, solver = 'liblinear', class_weight= weight)\n",
    "        model.fit(features_train, target_train)\n",
    "        predictions = model.predict(features_valid)\n",
    "        score = f1_score(target_valid, predictions)   \n",
    "        probabilities_valid = model.predict_proba(features_valid)\n",
    "        probabilities_one_valid = probabilities_valid[:, 1]\n",
    "        if score > best_score:\n",
    "            best_score = score\n",
    "            best_depth = i\n",
    "            roc = roc_auc_score(target_valid, probabilities_one_valid)\n",
    "    return best_score, best_depth, roc  "
   ]
  },
  {
   "cell_type": "code",
   "execution_count": 42,
   "id": "b295a3a0",
   "metadata": {},
   "outputs": [],
   "source": [
    "best_score, best_depth, roc = (logistic_regression(features_train,\n",
    "                                                   target_train, features_valid,target_valid,'balanced'))"
   ]
  },
  {
   "cell_type": "code",
   "execution_count": 43,
   "id": "909b8ecd",
   "metadata": {},
   "outputs": [
    {
     "name": "stdout",
     "output_type": "stream",
     "text": [
      "f1-мера: 0.509731232622799\n",
      "количество итераций: 100\n",
      "roc: 0.7777515982306715\n"
     ]
    }
   ],
   "source": [
    "print('f1-мера:',best_score)\n",
    "print('количество итераций:',best_depth)\n",
    "print('roc:',roc)"
   ]
  },
  {
   "cell_type": "markdown",
   "id": "4fbc4581",
   "metadata": {},
   "source": [
    "## 4.2. Увеличение выборки"
   ]
  },
  {
   "cell_type": "markdown",
   "id": "d7b49302",
   "metadata": {},
   "source": [
    "В данном пункте используем технику upsampling"
   ]
  },
  {
   "cell_type": "code",
   "execution_count": 44,
   "id": "75ed5a4f",
   "metadata": {},
   "outputs": [],
   "source": [
    "def upsample(features, target, repeat):\n",
    "    features_zeros = features[target == 0]\n",
    "    features_ones = features[target == 1]\n",
    "    target_zeros = target[target == 0]\n",
    "    target_ones = target[target == 1]\n",
    "\n",
    "    features_upsampled = pd.concat([features_zeros] + [features_ones] * repeat)\n",
    "    target_upsampled = pd.concat([target_zeros] + [target_ones] * repeat)\n",
    "    \n",
    "    features_upsampled, target_upsampled = shuffle(\n",
    "        features_upsampled, target_upsampled, random_state=12345)\n",
    "    \n",
    "    return features_upsampled, target_upsampled"
   ]
  },
  {
   "cell_type": "code",
   "execution_count": 45,
   "id": "14989c8d",
   "metadata": {},
   "outputs": [],
   "source": [
    "features_train_up = df_train.drop('exited', axis= 1)\n",
    "target_train_up = df_train.exited"
   ]
  },
  {
   "cell_type": "code",
   "execution_count": 46,
   "id": "28661e91",
   "metadata": {},
   "outputs": [
    {
     "data": {
      "text/plain": [
       "array([[ 0.8090755 , -1.03932669, -1.02599468, ..., -1.10730414,\n",
       "         0.66346825, -1.02412668],\n",
       "       [-1.15251812, -1.22756099,  0.69652425, ...,  0.90309425,\n",
       "        -1.50723112, -1.02412668],\n",
       "       [-0.3988532 ,  0.09007912,  1.38553182, ...,  0.90309425,\n",
       "         0.66346825,  0.9764417 ],\n",
       "       ...,\n",
       "       [-1.04927635, -0.94520954,  0.35202046, ..., -1.10730414,\n",
       "         0.66346825,  0.9764417 ],\n",
       "       [-0.95635876,  1.21948493,  1.38553182, ..., -1.10730414,\n",
       "         0.66346825, -1.02412668],\n",
       "       [ 1.22204257, -1.50991244, -1.02599468, ...,  0.90309425,\n",
       "        -1.50723112,  0.9764417 ]])"
      ]
     },
     "execution_count": 46,
     "metadata": {},
     "output_type": "execute_result"
    }
   ],
   "source": [
    "features_train"
   ]
  },
  {
   "cell_type": "code",
   "execution_count": 47,
   "id": "0b1b85ef",
   "metadata": {},
   "outputs": [],
   "source": [
    "features_upsampled, target_upsampled = upsample(features_train_up,target_train_up, 4)"
   ]
  },
  {
   "cell_type": "code",
   "execution_count": 48,
   "id": "bb173cb5",
   "metadata": {},
   "outputs": [],
   "source": [
    "ohe_train = (pd.DataFrame(encoder.transform(features_upsampled[['geography', 'gender', 'has_card', 'is_active_member']]),\n",
    "                          columns = ['is_spain', 'is_germany', 'female', 'has_card', 'is_acive_member']))\n",
    "features_upsampled = (features_upsampled.drop(['geography', 'gender', 'has_card', 'is_active_member'], axis = 1)\n",
    "                  .reset_index(drop=True))  \n",
    "features_upsampled = features_upsampled.join(ohe_train)"
   ]
  },
  {
   "cell_type": "code",
   "execution_count": 49,
   "id": "aca23a8a",
   "metadata": {},
   "outputs": [
    {
     "data": {
      "image/png": "[encoded data removed]",
      "text/plain": [
       "<Figure size 432x288 with 1 Axes>"
      ]
     },
     "metadata": {
      "needs_background": "light"
     },
     "output_type": "display_data"
    }
   ],
   "source": [
    "class_frequency = target_upsampled.value_counts(normalize= True)\n",
    "class_frequency.plot(kind ='bar');\n",
    "plt.title('частота класса в целевом признаке');\n",
    "plt.ylabel('частота класса');\n",
    "plt.xlabel('класс');\n",
    "plt.show()"
   ]
  },
  {
   "cell_type": "markdown",
   "id": "008c1cc8",
   "metadata": {},
   "source": [
    "Проверим на моделях"
   ]
  },
  {
   "cell_type": "code",
   "execution_count": 50,
   "id": "34949c92",
   "metadata": {},
   "outputs": [
    {
     "name": "stderr",
     "output_type": "stream",
     "text": [
      "C:\\Users\\usach\\anaconda3\\lib\\site-packages\\sklearn\\base.py:464: UserWarning: X does not have valid feature names, but DecisionTreeClassifier was fitted with feature names\n",
      "  warnings.warn(\n",
      "C:\\Users\\usach\\anaconda3\\lib\\site-packages\\sklearn\\base.py:464: UserWarning: X does not have valid feature names, but DecisionTreeClassifier was fitted with feature names\n",
      "  warnings.warn(\n",
      "C:\\Users\\usach\\anaconda3\\lib\\site-packages\\sklearn\\base.py:464: UserWarning: X does not have valid feature names, but DecisionTreeClassifier was fitted with feature names\n",
      "  warnings.warn(\n",
      "C:\\Users\\usach\\anaconda3\\lib\\site-packages\\sklearn\\base.py:464: UserWarning: X does not have valid feature names, but DecisionTreeClassifier was fitted with feature names\n",
      "  warnings.warn(\n",
      "C:\\Users\\usach\\anaconda3\\lib\\site-packages\\sklearn\\base.py:464: UserWarning: X does not have valid feature names, but DecisionTreeClassifier was fitted with feature names\n",
      "  warnings.warn(\n",
      "C:\\Users\\usach\\anaconda3\\lib\\site-packages\\sklearn\\base.py:464: UserWarning: X does not have valid feature names, but DecisionTreeClassifier was fitted with feature names\n",
      "  warnings.warn(\n",
      "C:\\Users\\usach\\anaconda3\\lib\\site-packages\\sklearn\\base.py:464: UserWarning: X does not have valid feature names, but DecisionTreeClassifier was fitted with feature names\n",
      "  warnings.warn(\n",
      "C:\\Users\\usach\\anaconda3\\lib\\site-packages\\sklearn\\base.py:464: UserWarning: X does not have valid feature names, but DecisionTreeClassifier was fitted with feature names\n",
      "  warnings.warn(\n",
      "C:\\Users\\usach\\anaconda3\\lib\\site-packages\\sklearn\\base.py:464: UserWarning: X does not have valid feature names, but DecisionTreeClassifier was fitted with feature names\n",
      "  warnings.warn(\n",
      "C:\\Users\\usach\\anaconda3\\lib\\site-packages\\sklearn\\base.py:464: UserWarning: X does not have valid feature names, but DecisionTreeClassifier was fitted with feature names\n",
      "  warnings.warn(\n",
      "C:\\Users\\usach\\anaconda3\\lib\\site-packages\\sklearn\\base.py:464: UserWarning: X does not have valid feature names, but DecisionTreeClassifier was fitted with feature names\n",
      "  warnings.warn(\n",
      "C:\\Users\\usach\\anaconda3\\lib\\site-packages\\sklearn\\base.py:464: UserWarning: X does not have valid feature names, but DecisionTreeClassifier was fitted with feature names\n",
      "  warnings.warn(\n",
      "C:\\Users\\usach\\anaconda3\\lib\\site-packages\\sklearn\\base.py:464: UserWarning: X does not have valid feature names, but DecisionTreeClassifier was fitted with feature names\n",
      "  warnings.warn(\n",
      "C:\\Users\\usach\\anaconda3\\lib\\site-packages\\sklearn\\base.py:464: UserWarning: X does not have valid feature names, but DecisionTreeClassifier was fitted with feature names\n",
      "  warnings.warn(\n",
      "C:\\Users\\usach\\anaconda3\\lib\\site-packages\\sklearn\\base.py:464: UserWarning: X does not have valid feature names, but DecisionTreeClassifier was fitted with feature names\n",
      "  warnings.warn(\n",
      "C:\\Users\\usach\\anaconda3\\lib\\site-packages\\sklearn\\base.py:464: UserWarning: X does not have valid feature names, but DecisionTreeClassifier was fitted with feature names\n",
      "  warnings.warn(\n",
      "C:\\Users\\usach\\anaconda3\\lib\\site-packages\\sklearn\\base.py:464: UserWarning: X does not have valid feature names, but DecisionTreeClassifier was fitted with feature names\n",
      "  warnings.warn(\n",
      "C:\\Users\\usach\\anaconda3\\lib\\site-packages\\sklearn\\base.py:464: UserWarning: X does not have valid feature names, but DecisionTreeClassifier was fitted with feature names\n",
      "  warnings.warn(\n"
     ]
    }
   ],
   "source": [
    "best_score, best_depth, roc = decession_tree(features_upsampled, target_upsampled, features_valid,target_valid, None)"
   ]
  },
  {
   "cell_type": "code",
   "execution_count": 51,
   "id": "c8ab8a09",
   "metadata": {},
   "outputs": [
    {
     "name": "stdout",
     "output_type": "stream",
     "text": [
      "f1-мера: 0.4457013574660634\n",
      "глубина: 4\n",
      "roc: 0.6687028423011576\n"
     ]
    }
   ],
   "source": [
    "print('f1-мера:',best_score)\n",
    "print('глубина:',best_depth)\n",
    "print('roc:',roc)"
   ]
  },
  {
   "cell_type": "code",
   "execution_count": 52,
   "id": "4f462c51",
   "metadata": {},
   "outputs": [
    {
     "name": "stderr",
     "output_type": "stream",
     "text": [
      "C:\\Users\\usach\\anaconda3\\lib\\site-packages\\sklearn\\base.py:464: UserWarning: X does not have valid feature names, but RandomForestClassifier was fitted with feature names\n",
      "  warnings.warn(\n",
      "C:\\Users\\usach\\anaconda3\\lib\\site-packages\\sklearn\\base.py:464: UserWarning: X does not have valid feature names, but RandomForestClassifier was fitted with feature names\n",
      "  warnings.warn(\n",
      "C:\\Users\\usach\\anaconda3\\lib\\site-packages\\sklearn\\base.py:464: UserWarning: X does not have valid feature names, but RandomForestClassifier was fitted with feature names\n",
      "  warnings.warn(\n",
      "C:\\Users\\usach\\anaconda3\\lib\\site-packages\\sklearn\\base.py:464: UserWarning: X does not have valid feature names, but RandomForestClassifier was fitted with feature names\n",
      "  warnings.warn(\n",
      "C:\\Users\\usach\\anaconda3\\lib\\site-packages\\sklearn\\base.py:464: UserWarning: X does not have valid feature names, but RandomForestClassifier was fitted with feature names\n",
      "  warnings.warn(\n",
      "C:\\Users\\usach\\anaconda3\\lib\\site-packages\\sklearn\\base.py:464: UserWarning: X does not have valid feature names, but RandomForestClassifier was fitted with feature names\n",
      "  warnings.warn(\n",
      "C:\\Users\\usach\\anaconda3\\lib\\site-packages\\sklearn\\base.py:464: UserWarning: X does not have valid feature names, but RandomForestClassifier was fitted with feature names\n",
      "  warnings.warn(\n",
      "C:\\Users\\usach\\anaconda3\\lib\\site-packages\\sklearn\\base.py:464: UserWarning: X does not have valid feature names, but RandomForestClassifier was fitted with feature names\n",
      "  warnings.warn(\n",
      "C:\\Users\\usach\\anaconda3\\lib\\site-packages\\sklearn\\base.py:464: UserWarning: X does not have valid feature names, but RandomForestClassifier was fitted with feature names\n",
      "  warnings.warn(\n",
      "C:\\Users\\usach\\anaconda3\\lib\\site-packages\\sklearn\\base.py:464: UserWarning: X does not have valid feature names, but RandomForestClassifier was fitted with feature names\n",
      "  warnings.warn(\n",
      "C:\\Users\\usach\\anaconda3\\lib\\site-packages\\sklearn\\base.py:464: UserWarning: X does not have valid feature names, but RandomForestClassifier was fitted with feature names\n",
      "  warnings.warn(\n",
      "C:\\Users\\usach\\anaconda3\\lib\\site-packages\\sklearn\\base.py:464: UserWarning: X does not have valid feature names, but RandomForestClassifier was fitted with feature names\n",
      "  warnings.warn(\n",
      "C:\\Users\\usach\\anaconda3\\lib\\site-packages\\sklearn\\base.py:464: UserWarning: X does not have valid feature names, but RandomForestClassifier was fitted with feature names\n",
      "  warnings.warn(\n",
      "C:\\Users\\usach\\anaconda3\\lib\\site-packages\\sklearn\\base.py:464: UserWarning: X does not have valid feature names, but RandomForestClassifier was fitted with feature names\n",
      "  warnings.warn(\n",
      "C:\\Users\\usach\\anaconda3\\lib\\site-packages\\sklearn\\base.py:464: UserWarning: X does not have valid feature names, but RandomForestClassifier was fitted with feature names\n",
      "  warnings.warn(\n",
      "C:\\Users\\usach\\anaconda3\\lib\\site-packages\\sklearn\\base.py:464: UserWarning: X does not have valid feature names, but RandomForestClassifier was fitted with feature names\n",
      "  warnings.warn(\n",
      "C:\\Users\\usach\\anaconda3\\lib\\site-packages\\sklearn\\base.py:464: UserWarning: X does not have valid feature names, but RandomForestClassifier was fitted with feature names\n",
      "  warnings.warn(\n",
      "C:\\Users\\usach\\anaconda3\\lib\\site-packages\\sklearn\\base.py:464: UserWarning: X does not have valid feature names, but RandomForestClassifier was fitted with feature names\n",
      "  warnings.warn(\n"
     ]
    }
   ],
   "source": [
    "best_score, best_depth, roc = random_forest(features_upsampled, target_upsampled, features_valid,target_valid, None)"
   ]
  },
  {
   "cell_type": "code",
   "execution_count": 53,
   "id": "a9fb8647",
   "metadata": {},
   "outputs": [
    {
     "name": "stdout",
     "output_type": "stream",
     "text": [
      "f1-мера: 0.42879019908116384\n",
      "глубина: 1\n",
      "roc: 0.7145945657396039\n"
     ]
    }
   ],
   "source": [
    "print('f1-мера:',best_score)\n",
    "print('глубина:',best_depth)\n",
    "print('roc:',roc)"
   ]
  },
  {
   "cell_type": "code",
   "execution_count": 54,
   "id": "5263a4fa",
   "metadata": {},
   "outputs": [
    {
     "name": "stderr",
     "output_type": "stream",
     "text": [
      "C:\\Users\\usach\\anaconda3\\lib\\site-packages\\sklearn\\base.py:464: UserWarning: X does not have valid feature names, but LogisticRegression was fitted with feature names\n",
      "  warnings.warn(\n",
      "C:\\Users\\usach\\anaconda3\\lib\\site-packages\\sklearn\\base.py:464: UserWarning: X does not have valid feature names, but LogisticRegression was fitted with feature names\n",
      "  warnings.warn(\n",
      "C:\\Users\\usach\\anaconda3\\lib\\site-packages\\sklearn\\base.py:464: UserWarning: X does not have valid feature names, but LogisticRegression was fitted with feature names\n",
      "  warnings.warn(\n",
      "C:\\Users\\usach\\anaconda3\\lib\\site-packages\\sklearn\\base.py:464: UserWarning: X does not have valid feature names, but LogisticRegression was fitted with feature names\n",
      "  warnings.warn(\n",
      "C:\\Users\\usach\\anaconda3\\lib\\site-packages\\sklearn\\base.py:464: UserWarning: X does not have valid feature names, but LogisticRegression was fitted with feature names\n",
      "  warnings.warn(\n",
      "C:\\Users\\usach\\anaconda3\\lib\\site-packages\\sklearn\\base.py:464: UserWarning: X does not have valid feature names, but LogisticRegression was fitted with feature names\n",
      "  warnings.warn(\n",
      "C:\\Users\\usach\\anaconda3\\lib\\site-packages\\sklearn\\base.py:464: UserWarning: X does not have valid feature names, but LogisticRegression was fitted with feature names\n",
      "  warnings.warn(\n",
      "C:\\Users\\usach\\anaconda3\\lib\\site-packages\\sklearn\\base.py:464: UserWarning: X does not have valid feature names, but LogisticRegression was fitted with feature names\n",
      "  warnings.warn(\n",
      "C:\\Users\\usach\\anaconda3\\lib\\site-packages\\sklearn\\base.py:464: UserWarning: X does not have valid feature names, but LogisticRegression was fitted with feature names\n",
      "  warnings.warn(\n",
      "C:\\Users\\usach\\anaconda3\\lib\\site-packages\\sklearn\\base.py:464: UserWarning: X does not have valid feature names, but LogisticRegression was fitted with feature names\n",
      "  warnings.warn(\n",
      "C:\\Users\\usach\\anaconda3\\lib\\site-packages\\sklearn\\base.py:464: UserWarning: X does not have valid feature names, but LogisticRegression was fitted with feature names\n",
      "  warnings.warn(\n",
      "C:\\Users\\usach\\anaconda3\\lib\\site-packages\\sklearn\\base.py:464: UserWarning: X does not have valid feature names, but LogisticRegression was fitted with feature names\n",
      "  warnings.warn(\n",
      "C:\\Users\\usach\\anaconda3\\lib\\site-packages\\sklearn\\base.py:464: UserWarning: X does not have valid feature names, but LogisticRegression was fitted with feature names\n",
      "  warnings.warn(\n",
      "C:\\Users\\usach\\anaconda3\\lib\\site-packages\\sklearn\\base.py:464: UserWarning: X does not have valid feature names, but LogisticRegression was fitted with feature names\n",
      "  warnings.warn(\n",
      "C:\\Users\\usach\\anaconda3\\lib\\site-packages\\sklearn\\base.py:464: UserWarning: X does not have valid feature names, but LogisticRegression was fitted with feature names\n",
      "  warnings.warn(\n",
      "C:\\Users\\usach\\anaconda3\\lib\\site-packages\\sklearn\\base.py:464: UserWarning: X does not have valid feature names, but LogisticRegression was fitted with feature names\n",
      "  warnings.warn(\n",
      "C:\\Users\\usach\\anaconda3\\lib\\site-packages\\sklearn\\base.py:464: UserWarning: X does not have valid feature names, but LogisticRegression was fitted with feature names\n",
      "  warnings.warn(\n",
      "C:\\Users\\usach\\anaconda3\\lib\\site-packages\\sklearn\\base.py:464: UserWarning: X does not have valid feature names, but LogisticRegression was fitted with feature names\n",
      "  warnings.warn(\n"
     ]
    }
   ],
   "source": [
    "best_score, best_depth, roc = logistic_regression(features_upsampled, target_upsampled, features_valid,target_valid, None)"
   ]
  },
  {
   "cell_type": "code",
   "execution_count": 55,
   "id": "a120a5f7",
   "metadata": {},
   "outputs": [
    {
     "name": "stdout",
     "output_type": "stream",
     "text": [
      "f1-мера: 0.4625850340136054\n",
      "глубина: 100\n",
      "roc: 0.7466539777674288\n"
     ]
    }
   ],
   "source": [
    "print('f1-мера:',best_score)\n",
    "print('глубина:',best_depth)\n",
    "print('roc:',roc)"
   ]
  },
  {
   "cell_type": "markdown",
   "id": "11f04758",
   "metadata": {},
   "source": [
    "## 4.3. Уменьшение выборки"
   ]
  },
  {
   "cell_type": "markdown",
   "id": "d10cbad0",
   "metadata": {},
   "source": [
    "В данном пункте используем технику downsampling"
   ]
  },
  {
   "cell_type": "code",
   "execution_count": 56,
   "id": "31e0065d",
   "metadata": {},
   "outputs": [],
   "source": [
    "def downsample(features, target, fraction):\n",
    "    features_zeros = features[target == 0]\n",
    "    features_ones = features[target == 1]\n",
    "    target_zeros = target[target == 0]\n",
    "    target_ones = target[target == 1]\n",
    "\n",
    "    features_downsampled = pd.concat(\n",
    "        [features_zeros.sample(frac=fraction, random_state=12345)] + [features_ones])\n",
    "    target_downsampled = pd.concat(\n",
    "        [target_zeros.sample(frac=fraction, random_state=12345)] + [target_ones])\n",
    "    \n",
    "    features_downsampled, target_downsampled = shuffle(\n",
    "        features_downsampled, target_downsampled, random_state=12345)\n",
    "    \n",
    "    return features_downsampled, target_downsampled "
   ]
  },
  {
   "cell_type": "code",
   "execution_count": 57,
   "id": "a8816893",
   "metadata": {},
   "outputs": [],
   "source": [
    "features_train_do = df_train.drop('exited', axis= 1)\n",
    "target_train_do = df_train.exited"
   ]
  },
  {
   "cell_type": "code",
   "execution_count": 58,
   "id": "b109fc6b",
   "metadata": {},
   "outputs": [],
   "source": [
    "features_downsampled, target_downsampled = downsample(features_train_do, target_train_do, 0.25)"
   ]
  },
  {
   "cell_type": "code",
   "execution_count": 59,
   "id": "27020327",
   "metadata": {},
   "outputs": [],
   "source": [
    "ohe_train = (pd.DataFrame(encoder.transform(features_downsampled[['geography', 'gender', 'has_card', 'is_active_member']]),\n",
    "                          columns = ['is_spain', 'is_germany', 'female', 'has_card', 'is_acive_member']))\n",
    "features_downsampled = (features_downsampled.drop(['geography', 'gender', 'has_card', 'is_active_member'], axis = 1)\n",
    "                  .reset_index(drop=True))  \n",
    "features_downsampled = features_downsampled.join(ohe_train)"
   ]
  },
  {
   "cell_type": "code",
   "execution_count": 60,
   "id": "3beea7a0",
   "metadata": {},
   "outputs": [
    {
     "data": {
      "image/png": "[encoded data removed]",
      "text/plain": [
       "<Figure size 432x288 with 1 Axes>"
      ]
     },
     "metadata": {
      "needs_background": "light"
     },
     "output_type": "display_data"
    }
   ],
   "source": [
    "class_frequency = target_downsampled.value_counts(normalize= True)\n",
    "class_frequency.plot(kind ='bar');\n",
    "plt.title('частота класса в целевом признаке');\n",
    "plt.ylabel('частота класса');\n",
    "plt.xlabel('класс');\n",
    "plt.show()"
   ]
  },
  {
   "cell_type": "markdown",
   "id": "b3104844",
   "metadata": {},
   "source": [
    "Проверим на моделях"
   ]
  },
  {
   "cell_type": "code",
   "execution_count": 61,
   "id": "79362bc5",
   "metadata": {},
   "outputs": [
    {
     "name": "stderr",
     "output_type": "stream",
     "text": [
      "C:\\Users\\usach\\anaconda3\\lib\\site-packages\\sklearn\\base.py:464: UserWarning: X does not have valid feature names, but DecisionTreeClassifier was fitted with feature names\n",
      "  warnings.warn(\n",
      "C:\\Users\\usach\\anaconda3\\lib\\site-packages\\sklearn\\base.py:464: UserWarning: X does not have valid feature names, but DecisionTreeClassifier was fitted with feature names\n",
      "  warnings.warn(\n",
      "C:\\Users\\usach\\anaconda3\\lib\\site-packages\\sklearn\\base.py:464: UserWarning: X does not have valid feature names, but DecisionTreeClassifier was fitted with feature names\n",
      "  warnings.warn(\n",
      "C:\\Users\\usach\\anaconda3\\lib\\site-packages\\sklearn\\base.py:464: UserWarning: X does not have valid feature names, but DecisionTreeClassifier was fitted with feature names\n",
      "  warnings.warn(\n",
      "C:\\Users\\usach\\anaconda3\\lib\\site-packages\\sklearn\\base.py:464: UserWarning: X does not have valid feature names, but DecisionTreeClassifier was fitted with feature names\n",
      "  warnings.warn(\n",
      "C:\\Users\\usach\\anaconda3\\lib\\site-packages\\sklearn\\base.py:464: UserWarning: X does not have valid feature names, but DecisionTreeClassifier was fitted with feature names\n",
      "  warnings.warn(\n",
      "C:\\Users\\usach\\anaconda3\\lib\\site-packages\\sklearn\\base.py:464: UserWarning: X does not have valid feature names, but DecisionTreeClassifier was fitted with feature names\n",
      "  warnings.warn(\n",
      "C:\\Users\\usach\\anaconda3\\lib\\site-packages\\sklearn\\base.py:464: UserWarning: X does not have valid feature names, but DecisionTreeClassifier was fitted with feature names\n",
      "  warnings.warn(\n",
      "C:\\Users\\usach\\anaconda3\\lib\\site-packages\\sklearn\\base.py:464: UserWarning: X does not have valid feature names, but DecisionTreeClassifier was fitted with feature names\n",
      "  warnings.warn(\n",
      "C:\\Users\\usach\\anaconda3\\lib\\site-packages\\sklearn\\base.py:464: UserWarning: X does not have valid feature names, but DecisionTreeClassifier was fitted with feature names\n",
      "  warnings.warn(\n",
      "C:\\Users\\usach\\anaconda3\\lib\\site-packages\\sklearn\\base.py:464: UserWarning: X does not have valid feature names, but DecisionTreeClassifier was fitted with feature names\n",
      "  warnings.warn(\n",
      "C:\\Users\\usach\\anaconda3\\lib\\site-packages\\sklearn\\base.py:464: UserWarning: X does not have valid feature names, but DecisionTreeClassifier was fitted with feature names\n",
      "  warnings.warn(\n",
      "C:\\Users\\usach\\anaconda3\\lib\\site-packages\\sklearn\\base.py:464: UserWarning: X does not have valid feature names, but DecisionTreeClassifier was fitted with feature names\n",
      "  warnings.warn(\n",
      "C:\\Users\\usach\\anaconda3\\lib\\site-packages\\sklearn\\base.py:464: UserWarning: X does not have valid feature names, but DecisionTreeClassifier was fitted with feature names\n",
      "  warnings.warn(\n",
      "C:\\Users\\usach\\anaconda3\\lib\\site-packages\\sklearn\\base.py:464: UserWarning: X does not have valid feature names, but DecisionTreeClassifier was fitted with feature names\n",
      "  warnings.warn(\n",
      "C:\\Users\\usach\\anaconda3\\lib\\site-packages\\sklearn\\base.py:464: UserWarning: X does not have valid feature names, but DecisionTreeClassifier was fitted with feature names\n",
      "  warnings.warn(\n",
      "C:\\Users\\usach\\anaconda3\\lib\\site-packages\\sklearn\\base.py:464: UserWarning: X does not have valid feature names, but DecisionTreeClassifier was fitted with feature names\n",
      "  warnings.warn(\n",
      "C:\\Users\\usach\\anaconda3\\lib\\site-packages\\sklearn\\base.py:464: UserWarning: X does not have valid feature names, but DecisionTreeClassifier was fitted with feature names\n",
      "  warnings.warn(\n"
     ]
    }
   ],
   "source": [
    "best_score, best_depth, roc = decession_tree(features_downsampled, target_downsampled, features_valid,target_valid, None)"
   ]
  },
  {
   "cell_type": "code",
   "execution_count": 62,
   "id": "78440926",
   "metadata": {},
   "outputs": [
    {
     "name": "stdout",
     "output_type": "stream",
     "text": [
      "f1-мера: 0.4457013574660634\n",
      "глубина: 4\n",
      "roc: 0.6387151937296712\n"
     ]
    }
   ],
   "source": [
    "print('f1-мера:',best_score)\n",
    "print('глубина:',best_depth)\n",
    "print('roc:',roc)"
   ]
  },
  {
   "cell_type": "code",
   "execution_count": 63,
   "id": "d2471452",
   "metadata": {},
   "outputs": [
    {
     "name": "stderr",
     "output_type": "stream",
     "text": [
      "C:\\Users\\usach\\anaconda3\\lib\\site-packages\\sklearn\\base.py:464: UserWarning: X does not have valid feature names, but RandomForestClassifier was fitted with feature names\n",
      "  warnings.warn(\n",
      "C:\\Users\\usach\\anaconda3\\lib\\site-packages\\sklearn\\base.py:464: UserWarning: X does not have valid feature names, but RandomForestClassifier was fitted with feature names\n",
      "  warnings.warn(\n",
      "C:\\Users\\usach\\anaconda3\\lib\\site-packages\\sklearn\\base.py:464: UserWarning: X does not have valid feature names, but RandomForestClassifier was fitted with feature names\n",
      "  warnings.warn(\n",
      "C:\\Users\\usach\\anaconda3\\lib\\site-packages\\sklearn\\base.py:464: UserWarning: X does not have valid feature names, but RandomForestClassifier was fitted with feature names\n",
      "  warnings.warn(\n",
      "C:\\Users\\usach\\anaconda3\\lib\\site-packages\\sklearn\\base.py:464: UserWarning: X does not have valid feature names, but RandomForestClassifier was fitted with feature names\n",
      "  warnings.warn(\n",
      "C:\\Users\\usach\\anaconda3\\lib\\site-packages\\sklearn\\base.py:464: UserWarning: X does not have valid feature names, but RandomForestClassifier was fitted with feature names\n",
      "  warnings.warn(\n",
      "C:\\Users\\usach\\anaconda3\\lib\\site-packages\\sklearn\\base.py:464: UserWarning: X does not have valid feature names, but RandomForestClassifier was fitted with feature names\n",
      "  warnings.warn(\n",
      "C:\\Users\\usach\\anaconda3\\lib\\site-packages\\sklearn\\base.py:464: UserWarning: X does not have valid feature names, but RandomForestClassifier was fitted with feature names\n",
      "  warnings.warn(\n",
      "C:\\Users\\usach\\anaconda3\\lib\\site-packages\\sklearn\\base.py:464: UserWarning: X does not have valid feature names, but RandomForestClassifier was fitted with feature names\n",
      "  warnings.warn(\n",
      "C:\\Users\\usach\\anaconda3\\lib\\site-packages\\sklearn\\base.py:464: UserWarning: X does not have valid feature names, but RandomForestClassifier was fitted with feature names\n",
      "  warnings.warn(\n",
      "C:\\Users\\usach\\anaconda3\\lib\\site-packages\\sklearn\\base.py:464: UserWarning: X does not have valid feature names, but RandomForestClassifier was fitted with feature names\n",
      "  warnings.warn(\n",
      "C:\\Users\\usach\\anaconda3\\lib\\site-packages\\sklearn\\base.py:464: UserWarning: X does not have valid feature names, but RandomForestClassifier was fitted with feature names\n",
      "  warnings.warn(\n",
      "C:\\Users\\usach\\anaconda3\\lib\\site-packages\\sklearn\\base.py:464: UserWarning: X does not have valid feature names, but RandomForestClassifier was fitted with feature names\n",
      "  warnings.warn(\n",
      "C:\\Users\\usach\\anaconda3\\lib\\site-packages\\sklearn\\base.py:464: UserWarning: X does not have valid feature names, but RandomForestClassifier was fitted with feature names\n",
      "  warnings.warn(\n",
      "C:\\Users\\usach\\anaconda3\\lib\\site-packages\\sklearn\\base.py:464: UserWarning: X does not have valid feature names, but RandomForestClassifier was fitted with feature names\n",
      "  warnings.warn(\n",
      "C:\\Users\\usach\\anaconda3\\lib\\site-packages\\sklearn\\base.py:464: UserWarning: X does not have valid feature names, but RandomForestClassifier was fitted with feature names\n",
      "  warnings.warn(\n",
      "C:\\Users\\usach\\anaconda3\\lib\\site-packages\\sklearn\\base.py:464: UserWarning: X does not have valid feature names, but RandomForestClassifier was fitted with feature names\n",
      "  warnings.warn(\n",
      "C:\\Users\\usach\\anaconda3\\lib\\site-packages\\sklearn\\base.py:464: UserWarning: X does not have valid feature names, but RandomForestClassifier was fitted with feature names\n",
      "  warnings.warn(\n"
     ]
    }
   ],
   "source": [
    "best_score, best_depth, roc = random_forest(features_downsampled, target_downsampled, features_valid,target_valid, None)"
   ]
  },
  {
   "cell_type": "code",
   "execution_count": 64,
   "id": "9b46b8c7",
   "metadata": {},
   "outputs": [
    {
     "name": "stdout",
     "output_type": "stream",
     "text": [
      "f1-мера: 0.45739910313901344\n",
      "глубина: 2\n",
      "roc: 0.7227711746006034\n"
     ]
    }
   ],
   "source": [
    "print('f1-мера:',best_score)\n",
    "print('глубина:',best_depth)\n",
    "print('roc:',roc)"
   ]
  },
  {
   "cell_type": "code",
   "execution_count": 65,
   "id": "526afe78",
   "metadata": {},
   "outputs": [
    {
     "name": "stderr",
     "output_type": "stream",
     "text": [
      "C:\\Users\\usach\\anaconda3\\lib\\site-packages\\sklearn\\base.py:464: UserWarning: X does not have valid feature names, but LogisticRegression was fitted with feature names\n",
      "  warnings.warn(\n",
      "C:\\Users\\usach\\anaconda3\\lib\\site-packages\\sklearn\\base.py:464: UserWarning: X does not have valid feature names, but LogisticRegression was fitted with feature names\n",
      "  warnings.warn(\n",
      "C:\\Users\\usach\\anaconda3\\lib\\site-packages\\sklearn\\base.py:464: UserWarning: X does not have valid feature names, but LogisticRegression was fitted with feature names\n",
      "  warnings.warn(\n",
      "C:\\Users\\usach\\anaconda3\\lib\\site-packages\\sklearn\\base.py:464: UserWarning: X does not have valid feature names, but LogisticRegression was fitted with feature names\n",
      "  warnings.warn(\n",
      "C:\\Users\\usach\\anaconda3\\lib\\site-packages\\sklearn\\base.py:464: UserWarning: X does not have valid feature names, but LogisticRegression was fitted with feature names\n",
      "  warnings.warn(\n",
      "C:\\Users\\usach\\anaconda3\\lib\\site-packages\\sklearn\\base.py:464: UserWarning: X does not have valid feature names, but LogisticRegression was fitted with feature names\n",
      "  warnings.warn(\n",
      "C:\\Users\\usach\\anaconda3\\lib\\site-packages\\sklearn\\base.py:464: UserWarning: X does not have valid feature names, but LogisticRegression was fitted with feature names\n",
      "  warnings.warn(\n",
      "C:\\Users\\usach\\anaconda3\\lib\\site-packages\\sklearn\\base.py:464: UserWarning: X does not have valid feature names, but LogisticRegression was fitted with feature names\n",
      "  warnings.warn(\n",
      "C:\\Users\\usach\\anaconda3\\lib\\site-packages\\sklearn\\base.py:464: UserWarning: X does not have valid feature names, but LogisticRegression was fitted with feature names\n",
      "  warnings.warn(\n",
      "C:\\Users\\usach\\anaconda3\\lib\\site-packages\\sklearn\\base.py:464: UserWarning: X does not have valid feature names, but LogisticRegression was fitted with feature names\n",
      "  warnings.warn(\n",
      "C:\\Users\\usach\\anaconda3\\lib\\site-packages\\sklearn\\base.py:464: UserWarning: X does not have valid feature names, but LogisticRegression was fitted with feature names\n",
      "  warnings.warn(\n",
      "C:\\Users\\usach\\anaconda3\\lib\\site-packages\\sklearn\\base.py:464: UserWarning: X does not have valid feature names, but LogisticRegression was fitted with feature names\n",
      "  warnings.warn(\n",
      "C:\\Users\\usach\\anaconda3\\lib\\site-packages\\sklearn\\base.py:464: UserWarning: X does not have valid feature names, but LogisticRegression was fitted with feature names\n",
      "  warnings.warn(\n",
      "C:\\Users\\usach\\anaconda3\\lib\\site-packages\\sklearn\\base.py:464: UserWarning: X does not have valid feature names, but LogisticRegression was fitted with feature names\n",
      "  warnings.warn(\n",
      "C:\\Users\\usach\\anaconda3\\lib\\site-packages\\sklearn\\base.py:464: UserWarning: X does not have valid feature names, but LogisticRegression was fitted with feature names\n",
      "  warnings.warn(\n",
      "C:\\Users\\usach\\anaconda3\\lib\\site-packages\\sklearn\\base.py:464: UserWarning: X does not have valid feature names, but LogisticRegression was fitted with feature names\n",
      "  warnings.warn(\n",
      "C:\\Users\\usach\\anaconda3\\lib\\site-packages\\sklearn\\base.py:464: UserWarning: X does not have valid feature names, but LogisticRegression was fitted with feature names\n",
      "  warnings.warn(\n",
      "C:\\Users\\usach\\anaconda3\\lib\\site-packages\\sklearn\\base.py:464: UserWarning: X does not have valid feature names, but LogisticRegression was fitted with feature names\n",
      "  warnings.warn(\n"
     ]
    }
   ],
   "source": [
    "best_score, best_depth, roc = logistic_regression(features_downsampled, target_downsampled, features_valid,target_valid, None)"
   ]
  },
  {
   "cell_type": "code",
   "execution_count": 66,
   "id": "ed200dad",
   "metadata": {},
   "outputs": [
    {
     "name": "stdout",
     "output_type": "stream",
     "text": [
      "f1-мера: 0.45578231292517\n",
      "глубина: 100\n",
      "roc: 0.7408335281459789\n"
     ]
    }
   ],
   "source": [
    "print('f1-мера:',best_score)\n",
    "print('глубина:',best_depth)\n",
    "print('roc:',roc)"
   ]
  },
  {
   "cell_type": "markdown",
   "id": "0a56427e",
   "metadata": {},
   "source": [
    "## 4.4. Снижение порога классификации логистической регрессии"
   ]
  },
  {
   "cell_type": "code",
   "execution_count": 68,
   "id": "41189cff",
   "metadata": {},
   "outputs": [],
   "source": [
    "model = LogisticRegression(random_state=12345, solver='liblinear')\n",
    "model.fit(features_train, target_train)\n",
    "\n",
    "probabilities_valid = model.predict_proba(features_valid)\n",
    "probabilities_one_valid = probabilities_valid[:, 1]"
   ]
  },
  {
   "cell_type": "code",
   "execution_count": 69,
   "id": "5af3b7be",
   "metadata": {},
   "outputs": [
    {
     "name": "stdout",
     "output_type": "stream",
     "text": [
      "Порог = 0.00 | f1-мера = 0.344, auc-roc = 0.774\n",
      "Порог = 0.02 | f1-мера = 0.344, auc-roc = 0.774\n",
      "Порог = 0.04 | f1-мера = 0.356, auc-roc = 0.774\n",
      "Порог = 0.06 | f1-мера = 0.376, auc-roc = 0.774\n",
      "Порог = 0.08 | f1-мера = 0.400, auc-roc = 0.774\n",
      "Порог = 0.10 | f1-мера = 0.417, auc-roc = 0.774\n",
      "Порог = 0.12 | f1-мера = 0.443, auc-roc = 0.774\n",
      "Порог = 0.14 | f1-мера = 0.459, auc-roc = 0.774\n",
      "Порог = 0.16 | f1-мера = 0.477, auc-roc = 0.774\n",
      "Порог = 0.18 | f1-мера = 0.488, auc-roc = 0.774\n",
      "Порог = 0.20 | f1-мера = 0.498, auc-roc = 0.774\n",
      "Порог = 0.22 | f1-мера = 0.507, auc-roc = 0.774\n",
      "Порог = 0.24 | f1-мера = 0.504, auc-roc = 0.774\n",
      "Порог = 0.26 | f1-мера = 0.501, auc-roc = 0.774\n",
      "Порог = 0.28 | f1-мера = 0.499, auc-roc = 0.774\n",
      "Порог = 0.30 | f1-мера = 0.489, auc-roc = 0.774\n",
      "Порог = 0.32 | f1-мера = 0.471, auc-roc = 0.774\n",
      "Порог = 0.34 | f1-мера = 0.459, auc-roc = 0.774\n",
      "Порог = 0.36 | f1-мера = 0.450, auc-roc = 0.774\n",
      "Порог = 0.38 | f1-мера = 0.430, auc-roc = 0.774\n"
     ]
    }
   ],
   "source": [
    "for threshold in np.arange(0, 0.4, 0.02):\n",
    "    predicted_valid = probabilities_one_valid > threshold    \n",
    "    score = f1_score(target_valid, predicted_valid)\n",
    "    probabilities_valid = model.predict_proba(features_valid)\n",
    "    probabilities_one_valid = probabilities_valid[:, 1]\n",
    "    roc = roc_auc_score(target_valid, probabilities_one_valid )\n",
    "    print(\"Порог = {:.2f} | f1-мера = {:.3f}, auc-roc = {:.3f}\".format(\n",
    "        threshold, score, roc))"
   ]
  },
  {
   "cell_type": "markdown",
   "id": "4d7adca4",
   "metadata": {},
   "source": [
    "**Вывод:**\n",
    "\n",
    "В ходе данного этапа были улучшены модели из этапа 3. Для увеличения f1-меры был использован перебор гиперпараметров моделей а так же техники \"балансирования\" классов\n",
    "\n",
    "Наибольшую эффективность показало \"взвешивание\" классов, при котором f1-мера была увеличена и:\n",
    "\n",
    "- для решающего дерева составила 0.52 на валидационной выборке \n",
    "- для случайного леса составила 0,64 на валидационной выборке\n",
    "- для логистической регрессии составила 0,51 на валидационной выборке"
   ]
  },
  {
   "cell_type": "markdown",
   "id": "7ba05e4e",
   "metadata": {},
   "source": [
    "# 5. Финальное тестирование"
   ]
  },
  {
   "cell_type": "markdown",
   "id": "a0a42ea8",
   "metadata": {},
   "source": [
    "Наилучий результат показал случайный лес c балансированными классами. Протестируем на тестовой выборке"
   ]
  },
  {
   "cell_type": "code",
   "execution_count": 70,
   "id": "3666a8a5",
   "metadata": {},
   "outputs": [],
   "source": [
    "model = RandomForestClassifier(n_estimators = 150, max_depth = 8, random_state= 12345, class_weight= 'balanced')\n",
    "model.fit(features_train, target_train)\n",
    "predictions = model.predict(features_test)\n",
    "probabilities_test = model.predict_proba(features_test)\n",
    "probabilities_one_test = probabilities_test[:, 1]"
   ]
  },
  {
   "cell_type": "code",
   "execution_count": 71,
   "id": "3f913fad",
   "metadata": {},
   "outputs": [
    {
     "name": "stdout",
     "output_type": "stream",
     "text": [
      "f1-мера: 0.6027742749054225\n",
      "roc: 0.8586696631655759\n"
     ]
    }
   ],
   "source": [
    "print('f1-мера:',f1_score(target_test, predictions))\n",
    "print('roc:',roc_auc_score(target_test, probabilities_one_test))"
   ]
  },
  {
   "cell_type": "code",
   "execution_count": 72,
   "id": "4494db78",
   "metadata": {},
   "outputs": [
    {
     "data": {
      "image/png": "[encoded data removed]",
      "text/plain": [
       "<Figure size 432x288 with 1 Axes>"
      ]
     },
     "metadata": {
      "needs_background": "light"
     },
     "output_type": "display_data"
    }
   ],
   "source": [
    "fpr, tpr, thresholds = roc_curve(target_test, probabilities_one_test) \n",
    "plt.figure()\n",
    "plt.plot(fpr,tpr, linestyle='--')\n",
    "plt.xlim(0,1)\n",
    "plt.ylim(0,1)\n",
    "plt.xlabel('False Positive Rate')\n",
    "plt.ylabel('True Positive Rate')\n",
    "plt.title('ROC-кривая')\n",
    "plt.show()"
   ]
  },
  {
   "cell_type": "markdown",
   "id": "8471d778",
   "metadata": {},
   "source": [
    "Значение f1-меры > 0.59. Условие задачи выполнено"
   ]
  },
  {
   "cell_type": "markdown",
   "id": "5f36808e",
   "metadata": {},
   "source": [
    "# 6. Общий вывод"
   ]
  },
  {
   "cell_type": "markdown",
   "id": "f9dbb630",
   "metadata": {},
   "source": [
    "**Цель работы: **\n",
    "\n",
    "Cпрогнозировать, уйдёт клиент из банка в ближайшее время или нет по предоставленым исторические данные о поведении клиентов и расторжении договоров с банком. \n",
    "Построить модель с предельно большим значением F1-меры (не менее 0.59). Проверить F1-меру на тестовой выборке.\n",
    "Дополнительно измерить AUC-ROC, сравнивая её значение с F1-мерой."
   ]
  },
  {
   "cell_type": "markdown",
   "id": "17e906c3",
   "metadata": {},
   "source": [
    "Для выполнения данной задачи были проведены следующие этапы:\n",
    "\n",
    " - Загрузка и подготовка данных\n",
    " - Исследование баланса классов и обучение модели\n",
    " - Улучшение модели\n",
    " - Финальное тестирование"
   ]
  },
  {
   "cell_type": "markdown",
   "id": "55dcf901",
   "metadata": {},
   "source": [
    "В ходе загрузки и подготовки данных были загружены необходимые библиотеки, датасет, была произведена предобработка данных, а именно:\n",
    "\n",
    "    - столбцы приведены snake_case\n",
    "    - отброшены пропущенные значения (NAN)\n",
    "    - исправлены ошибки в типах\n",
    "\n",
    "Так же было выполнено прямое кодирование категориальных признаков и подготовлены тренировочная, валидационная и тестовая выборки   "
   ]
  },
  {
   "cell_type": "markdown",
   "id": "10f61ee9",
   "metadata": {},
   "source": [
    "В ходе исследования баланса классов и обучения модели был исследован балланс классов и обучено решающее дерево.\n",
    "По целевому признаку и предсказаниям модели наблюдаем сильный дисбаланс классов (признаки и модель негативны)\n",
    "На данном этапе для решающего дерева со случайными параметрами была получена f1-мера 0,372, для случайного леса 0,36, для логистической регрессии 0,31 что далеко от требуемого показателя в 0,59. Частоты классов в целевом признаке и предсказаниях модели даны на графиках ниже"
   ]
  },
  {
   "attachments": {
    "image.png": {
     "image/png": "[encoded data removed]"
    }
   },
   "cell_type": "markdown",
   "id": "4ac67163",
   "metadata": {},
   "source": [
    "![image.png](attachment:image.png)"
   ]
  },
  {
   "cell_type": "markdown",
   "id": "920c067c",
   "metadata": {},
   "source": [
    "В ходе улучшения модели были улучшены модели из предыдущего этапа. Для увеличения f1-меры был использован перебор гиперпараметров моделей а так же техники \"балансирования\" классов\n",
    "\n",
    "Наибольшую эффективность показало \"взвешивание\" классов, при котором f1-мера была увеличена и:\n",
    "\n",
    "- для решающего дерева составила 0.52 на валидационной выборке \n",
    "- для случайного леса составила 0,64 на валидационной выборке\n",
    "- для логистической регрессии составила 0,51 на валидационной выборке"
   ]
  },
  {
   "cell_type": "markdown",
   "id": "77c04582",
   "metadata": {},
   "source": [
    "В ходе финального тестирования было проведено тестирования модели, c наибольшим значением f-1 выборки и лучшими гиперпараметрами из предыдущего этапа - случайного леса"
   ]
  },
  {
   "cell_type": "markdown",
   "id": "20a79761",
   "metadata": {},
   "source": [
    "На тестовой выборке удалось достичь f1-меры: 0.61, что больше заданной (0.59)"
   ]
  },
  {
   "cell_type": "markdown",
   "id": "06174294",
   "metadata": {},
   "source": [
    "Для проверки была построена ROC-кривая"
   ]
  },
  {
   "attachments": {
    "image.png": {
     "image/png": "[encoded data removed]"
    }
   },
   "cell_type": "markdown",
   "id": "3435deb5",
   "metadata": {},
   "source": [
    "![image.png](attachment:image.png)"
   ]
  },
  {
   "cell_type": "code",
   "execution_count": null,
   "id": "06c06e86",
   "metadata": {},
   "outputs": [],
   "source": []
  }
 ],
 "metadata": {
  "kernelspec": {
   "display_name": "Python 3 (ipykernel)",
   "language": "python",
   "name": "python3"
  },
  "language_info": {
   "codemirror_mode": {
    "name": "ipython",
    "version": 3
   },
   "file_extension": ".py",
   "mimetype": "text/x-python",
   "name": "python",
   "nbconvert_exporter": "python",
   "pygments_lexer": "ipython3",
   "version": "3.11.5"
  },
  "toc": {
   "base_numbering": 1,
   "nav_menu": {},
   "number_sections": true,
   "sideBar": true,
   "skip_h1_title": true,
   "title_cell": "Table of Contents",
   "title_sidebar": "Contents",
   "toc_cell": false,
   "toc_position": {},
   "toc_section_display": true,
   "toc_window_display": true
  }
 },
 "nbformat": 4,
 "nbformat_minor": 5
}
